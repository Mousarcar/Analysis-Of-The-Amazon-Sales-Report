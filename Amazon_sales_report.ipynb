{
 "cells": [
  {
   "cell_type": "markdown",
   "id": "829d2b87",
   "metadata": {},
   "source": [
    "# Analysis of Amazon Sales Transactions in India (March to June 2022)"
   ]
  },
  {
   "cell_type": "markdown",
   "id": "c143c067",
   "metadata": {},
   "source": [
    "**Name:** Mou Sarkar    "
   ]
  },
  {
   "cell_type": "markdown",
   "id": "6f7aae96",
   "metadata": {},
   "source": [
    "**Organization:** InnoByte Services "
   ]
  },
  {
   "cell_type": "markdown",
   "id": "bb373dca",
   "metadata": {},
   "source": [
    "## Introduction"
   ]
  },
  {
   "cell_type": "markdown",
   "id": "90604522",
   "metadata": {},
   "source": [
    "* The dataset contains information about sales transactions on Amazon in India from March to June 2022. It includes details such as order ID, date, status, fulfillment method, sales channel, product category, size, quantity, amount, shipping details, and more."
   ]
  },
  {
   "cell_type": "markdown",
   "id": "2315fb7e",
   "metadata": {},
   "source": [
    "## Problem Statement"
   ]
  },
  {
   "cell_type": "markdown",
   "id": "cced166b",
   "metadata": {},
   "source": [
    "* Analyze and Provide Insights on Amazon Sales Report ."
   ]
  },
  {
   "cell_type": "markdown",
   "id": "f5c484c1",
   "metadata": {},
   "source": [
    "## Size of Dataset"
   ]
  },
  {
   "cell_type": "markdown",
   "id": "97fdecc6",
   "metadata": {},
   "source": [
    "* The size of the data is 19.1 MB."
   ]
  },
  {
   "cell_type": "markdown",
   "id": "5418bab6",
   "metadata": {},
   "source": [
    "## About the Dataset"
   ]
  },
  {
   "cell_type": "markdown",
   "id": "34780069",
   "metadata": {},
   "source": [
    "* The dataset comprises sales transactions on Amazon India spanning from March to June 2022.\n",
    "* The dataset contains 20 columns namely - index, Order ID, Date, Status, Fulfilment,Sales Channel,ship-service-level,Category,Size,Courier Status,currency,Amount,ship-city,ship-state,ship-postal-code,ship-country,B2B,fulfilled-by,New,PendingS."
   ]
  },
  {
   "cell_type": "markdown",
   "id": "04fb2425",
   "metadata": {},
   "source": [
    "## Libraries Used\n",
    "* Numpy\n",
    "* Pandas\n",
    "* Matplotlib\n",
    "* Seaborn\n",
    "* Scikit-learn"
   ]
  },
  {
   "cell_type": "markdown",
   "id": "3b665d4d",
   "metadata": {},
   "source": [
    "## Overview of the Features"
   ]
  },
  {
   "cell_type": "markdown",
   "id": "8e2e0e57",
   "metadata": {},
   "source": [
    "* index: The unique identifier for each row.\n",
    "* Order ID: The unique identifier for each order.\n",
    "* Date: The date when the order was placed.\n",
    "* Status: The current status of the order .\n",
    "* Fulfilment: The fulfillment method used for the order.\n",
    "* Sales Channel: The channel through which the sale was made .\n",
    "* ship-service-level: The shipping service level selected for the order.\n",
    "* Category: The product category of the item(s) in the order.\n",
    "* Size: The size of the product (if applicable).\n",
    "* Courier Status: The current status of the courier .\n",
    "* currency: The currency in which the transaction was made.\n",
    "* Amount: The monetary value of the order.\n",
    "* ship-city: The city to which the order is shipped.\n",
    "* ship-state: The state to which the order is shipped.\n",
    "* ship-postal-code: The postal code for the shipping address.\n",
    "* ship-country: The country to which the order is shipped.\n",
    "* B2B: Indicates if the order is a business-to-business (B2B) transaction.\n",
    "* fulfilled-by: Indicates who fulfilled the order .\n",
    "* New: Potentially a column to indicate if the product is new.\n",
    "* Pendings: The number of pending items or status within the order."
   ]
  },
  {
   "cell_type": "markdown",
   "id": "641b872c",
   "metadata": {},
   "source": [
    "## Data Preprocessing"
   ]
  },
  {
   "cell_type": "markdown",
   "id": "80561937-e94b-4845-8579-7e86d1c5e20b",
   "metadata": {},
   "source": [
    "### Importing required libraries"
   ]
  },
  {
   "cell_type": "code",
   "execution_count": 1,
   "id": "61c287c1-9914-4922-a68d-aa3b389de2a0",
   "metadata": {},
   "outputs": [],
   "source": [
    "import pandas as pd\n",
    "import numpy as np\n",
    "import seaborn as sns\n",
    "import matplotlib.pyplot as plt\n",
    "from sklearn.preprocessing import StandardScaler\n",
    "from sklearn.cluster import KMeans\n",
    "import warnings\n",
    "warnings.filterwarnings(\"ignore\")"
   ]
  },
  {
   "cell_type": "markdown",
   "id": "50a4b2ab-dbec-449c-99eb-afd8b170a44b",
   "metadata": {},
   "source": [
    "### Loading the dataset"
   ]
  },
  {
   "cell_type": "code",
   "execution_count": 2,
   "id": "aa9dbf79-3e42-4302-ac1b-a9d01bd1c395",
   "metadata": {},
   "outputs": [],
   "source": [
    "df = pd.read_csv(\"Amazon Sale Report.csv\", encoding='latin-1')"
   ]
  },
  {
   "cell_type": "code",
   "execution_count": 3,
   "id": "9c21a953-05e1-45e8-a15d-52043f974015",
   "metadata": {},
   "outputs": [
    {
     "data": {
      "text/html": [
       "<div>\n",
       "<style scoped>\n",
       "    .dataframe tbody tr th:only-of-type {\n",
       "        vertical-align: middle;\n",
       "    }\n",
       "\n",
       "    .dataframe tbody tr th {\n",
       "        vertical-align: top;\n",
       "    }\n",
       "\n",
       "    .dataframe thead th {\n",
       "        text-align: right;\n",
       "    }\n",
       "</style>\n",
       "<table border=\"1\" class=\"dataframe\">\n",
       "  <thead>\n",
       "    <tr style=\"text-align: right;\">\n",
       "      <th></th>\n",
       "      <th>index</th>\n",
       "      <th>Order ID</th>\n",
       "      <th>Date</th>\n",
       "      <th>Status</th>\n",
       "      <th>Fulfilment</th>\n",
       "      <th>Sales Channel</th>\n",
       "      <th>ship-service-level</th>\n",
       "      <th>Category</th>\n",
       "      <th>Size</th>\n",
       "      <th>Courier Status</th>\n",
       "      <th>...</th>\n",
       "      <th>currency</th>\n",
       "      <th>Amount</th>\n",
       "      <th>ship-city</th>\n",
       "      <th>ship-state</th>\n",
       "      <th>ship-postal-code</th>\n",
       "      <th>ship-country</th>\n",
       "      <th>B2B</th>\n",
       "      <th>fulfilled-by</th>\n",
       "      <th>New</th>\n",
       "      <th>PendingS</th>\n",
       "    </tr>\n",
       "  </thead>\n",
       "  <tbody>\n",
       "    <tr>\n",
       "      <th>0</th>\n",
       "      <td>0</td>\n",
       "      <td>405-8078784-5731545</td>\n",
       "      <td>04-30-22</td>\n",
       "      <td>Cancelled</td>\n",
       "      <td>Merchant</td>\n",
       "      <td>Amazon.in</td>\n",
       "      <td>Standard</td>\n",
       "      <td>T-shirt</td>\n",
       "      <td>S</td>\n",
       "      <td>On the Way</td>\n",
       "      <td>...</td>\n",
       "      <td>INR</td>\n",
       "      <td>647.62</td>\n",
       "      <td>MUMBAI</td>\n",
       "      <td>MAHARASHTRA</td>\n",
       "      <td>400081.0</td>\n",
       "      <td>IN</td>\n",
       "      <td>False</td>\n",
       "      <td>Easy Ship</td>\n",
       "      <td>NaN</td>\n",
       "      <td>NaN</td>\n",
       "    </tr>\n",
       "    <tr>\n",
       "      <th>1</th>\n",
       "      <td>1</td>\n",
       "      <td>171-9198151-1101146</td>\n",
       "      <td>04-30-22</td>\n",
       "      <td>Shipped - Delivered to Buyer</td>\n",
       "      <td>Merchant</td>\n",
       "      <td>Amazon.in</td>\n",
       "      <td>Standard</td>\n",
       "      <td>Shirt</td>\n",
       "      <td>3XL</td>\n",
       "      <td>Shipped</td>\n",
       "      <td>...</td>\n",
       "      <td>INR</td>\n",
       "      <td>406.00</td>\n",
       "      <td>BENGALURU</td>\n",
       "      <td>KARNATAKA</td>\n",
       "      <td>560085.0</td>\n",
       "      <td>IN</td>\n",
       "      <td>False</td>\n",
       "      <td>Easy Ship</td>\n",
       "      <td>NaN</td>\n",
       "      <td>NaN</td>\n",
       "    </tr>\n",
       "    <tr>\n",
       "      <th>2</th>\n",
       "      <td>2</td>\n",
       "      <td>404-0687676-7273146</td>\n",
       "      <td>04-30-22</td>\n",
       "      <td>Shipped</td>\n",
       "      <td>Amazon</td>\n",
       "      <td>Amazon.in</td>\n",
       "      <td>Expedited</td>\n",
       "      <td>Shirt</td>\n",
       "      <td>XL</td>\n",
       "      <td>Shipped</td>\n",
       "      <td>...</td>\n",
       "      <td>INR</td>\n",
       "      <td>329.00</td>\n",
       "      <td>NAVI MUMBAI</td>\n",
       "      <td>MAHARASHTRA</td>\n",
       "      <td>410210.0</td>\n",
       "      <td>IN</td>\n",
       "      <td>True</td>\n",
       "      <td>NaN</td>\n",
       "      <td>NaN</td>\n",
       "      <td>NaN</td>\n",
       "    </tr>\n",
       "    <tr>\n",
       "      <th>3</th>\n",
       "      <td>3</td>\n",
       "      <td>403-9615377-8133951</td>\n",
       "      <td>04-30-22</td>\n",
       "      <td>Cancelled</td>\n",
       "      <td>Merchant</td>\n",
       "      <td>Amazon.in</td>\n",
       "      <td>Standard</td>\n",
       "      <td>Blazzer</td>\n",
       "      <td>L</td>\n",
       "      <td>On the Way</td>\n",
       "      <td>...</td>\n",
       "      <td>INR</td>\n",
       "      <td>753.33</td>\n",
       "      <td>PUDUCHERRY</td>\n",
       "      <td>PUDUCHERRY</td>\n",
       "      <td>605008.0</td>\n",
       "      <td>IN</td>\n",
       "      <td>False</td>\n",
       "      <td>Easy Ship</td>\n",
       "      <td>NaN</td>\n",
       "      <td>NaN</td>\n",
       "    </tr>\n",
       "    <tr>\n",
       "      <th>4</th>\n",
       "      <td>4</td>\n",
       "      <td>407-1069790-7240320</td>\n",
       "      <td>04-30-22</td>\n",
       "      <td>Shipped</td>\n",
       "      <td>Amazon</td>\n",
       "      <td>Amazon.in</td>\n",
       "      <td>Expedited</td>\n",
       "      <td>Trousers</td>\n",
       "      <td>3XL</td>\n",
       "      <td>Shipped</td>\n",
       "      <td>...</td>\n",
       "      <td>INR</td>\n",
       "      <td>574.00</td>\n",
       "      <td>CHENNAI</td>\n",
       "      <td>TAMIL NADU</td>\n",
       "      <td>600073.0</td>\n",
       "      <td>IN</td>\n",
       "      <td>False</td>\n",
       "      <td>NaN</td>\n",
       "      <td>NaN</td>\n",
       "      <td>NaN</td>\n",
       "    </tr>\n",
       "  </tbody>\n",
       "</table>\n",
       "<p>5 rows × 21 columns</p>\n",
       "</div>"
      ],
      "text/plain": [
       "   index             Order ID      Date                        Status  \\\n",
       "0      0  405-8078784-5731545  04-30-22                     Cancelled   \n",
       "1      1  171-9198151-1101146  04-30-22  Shipped - Delivered to Buyer   \n",
       "2      2  404-0687676-7273146  04-30-22                       Shipped   \n",
       "3      3  403-9615377-8133951  04-30-22                     Cancelled   \n",
       "4      4  407-1069790-7240320  04-30-22                       Shipped   \n",
       "\n",
       "  Fulfilment Sales Channel ship-service-level  Category Size Courier Status  \\\n",
       "0   Merchant     Amazon.in           Standard   T-shirt    S     On the Way   \n",
       "1   Merchant     Amazon.in           Standard     Shirt  3XL        Shipped   \n",
       "2     Amazon     Amazon.in          Expedited     Shirt   XL        Shipped   \n",
       "3   Merchant     Amazon.in           Standard   Blazzer    L     On the Way   \n",
       "4     Amazon     Amazon.in          Expedited  Trousers  3XL        Shipped   \n",
       "\n",
       "   ...  currency  Amount    ship-city   ship-state ship-postal-code  \\\n",
       "0  ...       INR  647.62       MUMBAI  MAHARASHTRA         400081.0   \n",
       "1  ...       INR  406.00    BENGALURU    KARNATAKA         560085.0   \n",
       "2  ...       INR  329.00  NAVI MUMBAI  MAHARASHTRA         410210.0   \n",
       "3  ...       INR  753.33   PUDUCHERRY   PUDUCHERRY         605008.0   \n",
       "4  ...       INR  574.00      CHENNAI   TAMIL NADU         600073.0   \n",
       "\n",
       "   ship-country    B2B  fulfilled-by New  PendingS  \n",
       "0            IN  False     Easy Ship NaN       NaN  \n",
       "1            IN  False     Easy Ship NaN       NaN  \n",
       "2            IN   True           NaN NaN       NaN  \n",
       "3            IN  False     Easy Ship NaN       NaN  \n",
       "4            IN  False           NaN NaN       NaN  \n",
       "\n",
       "[5 rows x 21 columns]"
      ]
     },
     "execution_count": 3,
     "metadata": {},
     "output_type": "execute_result"
    }
   ],
   "source": [
    "# The first few rows of the dataframe\n",
    "df.head()"
   ]
  },
  {
   "cell_type": "code",
   "execution_count": 4,
   "id": "c2f6fa6f-cb40-4937-b391-93bca43d7ce3",
   "metadata": {},
   "outputs": [
    {
     "data": {
      "text/html": [
       "<div>\n",
       "<style scoped>\n",
       "    .dataframe tbody tr th:only-of-type {\n",
       "        vertical-align: middle;\n",
       "    }\n",
       "\n",
       "    .dataframe tbody tr th {\n",
       "        vertical-align: top;\n",
       "    }\n",
       "\n",
       "    .dataframe thead th {\n",
       "        text-align: right;\n",
       "    }\n",
       "</style>\n",
       "<table border=\"1\" class=\"dataframe\">\n",
       "  <thead>\n",
       "    <tr style=\"text-align: right;\">\n",
       "      <th></th>\n",
       "      <th>index</th>\n",
       "      <th>Order ID</th>\n",
       "      <th>Date</th>\n",
       "      <th>Status</th>\n",
       "      <th>Fulfilment</th>\n",
       "      <th>Sales Channel</th>\n",
       "      <th>ship-service-level</th>\n",
       "      <th>Category</th>\n",
       "      <th>Size</th>\n",
       "      <th>Courier Status</th>\n",
       "      <th>...</th>\n",
       "      <th>currency</th>\n",
       "      <th>Amount</th>\n",
       "      <th>ship-city</th>\n",
       "      <th>ship-state</th>\n",
       "      <th>ship-postal-code</th>\n",
       "      <th>ship-country</th>\n",
       "      <th>B2B</th>\n",
       "      <th>fulfilled-by</th>\n",
       "      <th>New</th>\n",
       "      <th>PendingS</th>\n",
       "    </tr>\n",
       "  </thead>\n",
       "  <tbody>\n",
       "    <tr>\n",
       "      <th>128971</th>\n",
       "      <td>128970</td>\n",
       "      <td>406-6001380-7673107</td>\n",
       "      <td>05-31-22</td>\n",
       "      <td>Shipped</td>\n",
       "      <td>Amazon</td>\n",
       "      <td>Amazon.in</td>\n",
       "      <td>Expedited</td>\n",
       "      <td>Shirt</td>\n",
       "      <td>XL</td>\n",
       "      <td>Shipped</td>\n",
       "      <td>...</td>\n",
       "      <td>INR</td>\n",
       "      <td>517.0</td>\n",
       "      <td>HYDERABAD</td>\n",
       "      <td>TELANGANA</td>\n",
       "      <td>500013.0</td>\n",
       "      <td>IN</td>\n",
       "      <td>False</td>\n",
       "      <td>NaN</td>\n",
       "      <td>NaN</td>\n",
       "      <td>NaN</td>\n",
       "    </tr>\n",
       "    <tr>\n",
       "      <th>128972</th>\n",
       "      <td>128971</td>\n",
       "      <td>402-9551604-7544318</td>\n",
       "      <td>05-31-22</td>\n",
       "      <td>Shipped</td>\n",
       "      <td>Amazon</td>\n",
       "      <td>Amazon.in</td>\n",
       "      <td>Expedited</td>\n",
       "      <td>T-shirt</td>\n",
       "      <td>M</td>\n",
       "      <td>Shipped</td>\n",
       "      <td>...</td>\n",
       "      <td>INR</td>\n",
       "      <td>999.0</td>\n",
       "      <td>GURUGRAM</td>\n",
       "      <td>HARYANA</td>\n",
       "      <td>122004.0</td>\n",
       "      <td>IN</td>\n",
       "      <td>False</td>\n",
       "      <td>NaN</td>\n",
       "      <td>NaN</td>\n",
       "      <td>NaN</td>\n",
       "    </tr>\n",
       "    <tr>\n",
       "      <th>128973</th>\n",
       "      <td>128972</td>\n",
       "      <td>407-9547469-3152358</td>\n",
       "      <td>05-31-22</td>\n",
       "      <td>Shipped</td>\n",
       "      <td>Amazon</td>\n",
       "      <td>Amazon.in</td>\n",
       "      <td>Expedited</td>\n",
       "      <td>Blazzer</td>\n",
       "      <td>XXL</td>\n",
       "      <td>Shipped</td>\n",
       "      <td>...</td>\n",
       "      <td>INR</td>\n",
       "      <td>690.0</td>\n",
       "      <td>HYDERABAD</td>\n",
       "      <td>TELANGANA</td>\n",
       "      <td>500049.0</td>\n",
       "      <td>IN</td>\n",
       "      <td>False</td>\n",
       "      <td>NaN</td>\n",
       "      <td>NaN</td>\n",
       "      <td>NaN</td>\n",
       "    </tr>\n",
       "    <tr>\n",
       "      <th>128974</th>\n",
       "      <td>128973</td>\n",
       "      <td>402-6184140-0545956</td>\n",
       "      <td>05-31-22</td>\n",
       "      <td>Shipped</td>\n",
       "      <td>Amazon</td>\n",
       "      <td>Amazon.in</td>\n",
       "      <td>Expedited</td>\n",
       "      <td>T-shirt</td>\n",
       "      <td>XS</td>\n",
       "      <td>Shipped</td>\n",
       "      <td>...</td>\n",
       "      <td>INR</td>\n",
       "      <td>1199.0</td>\n",
       "      <td>Halol</td>\n",
       "      <td>Gujarat</td>\n",
       "      <td>389350.0</td>\n",
       "      <td>IN</td>\n",
       "      <td>False</td>\n",
       "      <td>NaN</td>\n",
       "      <td>NaN</td>\n",
       "      <td>NaN</td>\n",
       "    </tr>\n",
       "    <tr>\n",
       "      <th>128975</th>\n",
       "      <td>128974</td>\n",
       "      <td>408-7436540-8728312</td>\n",
       "      <td>05-31-22</td>\n",
       "      <td>Shipped</td>\n",
       "      <td>Amazon</td>\n",
       "      <td>Amazon.in</td>\n",
       "      <td>Expedited</td>\n",
       "      <td>T-shirt</td>\n",
       "      <td>S</td>\n",
       "      <td>Shipped</td>\n",
       "      <td>...</td>\n",
       "      <td>INR</td>\n",
       "      <td>696.0</td>\n",
       "      <td>Raipur</td>\n",
       "      <td>CHHATTISGARH</td>\n",
       "      <td>492014.0</td>\n",
       "      <td>IN</td>\n",
       "      <td>False</td>\n",
       "      <td>NaN</td>\n",
       "      <td>NaN</td>\n",
       "      <td>NaN</td>\n",
       "    </tr>\n",
       "  </tbody>\n",
       "</table>\n",
       "<p>5 rows × 21 columns</p>\n",
       "</div>"
      ],
      "text/plain": [
       "         index             Order ID      Date   Status Fulfilment  \\\n",
       "128971  128970  406-6001380-7673107  05-31-22  Shipped     Amazon   \n",
       "128972  128971  402-9551604-7544318  05-31-22  Shipped     Amazon   \n",
       "128973  128972  407-9547469-3152358  05-31-22  Shipped     Amazon   \n",
       "128974  128973  402-6184140-0545956  05-31-22  Shipped     Amazon   \n",
       "128975  128974  408-7436540-8728312  05-31-22  Shipped     Amazon   \n",
       "\n",
       "       Sales Channel ship-service-level Category Size Courier Status  ...  \\\n",
       "128971     Amazon.in          Expedited    Shirt   XL        Shipped  ...   \n",
       "128972     Amazon.in          Expedited  T-shirt    M        Shipped  ...   \n",
       "128973     Amazon.in          Expedited  Blazzer  XXL        Shipped  ...   \n",
       "128974     Amazon.in          Expedited  T-shirt   XS        Shipped  ...   \n",
       "128975     Amazon.in          Expedited  T-shirt    S        Shipped  ...   \n",
       "\n",
       "        currency  Amount  ship-city    ship-state ship-postal-code  \\\n",
       "128971       INR   517.0  HYDERABAD     TELANGANA         500013.0   \n",
       "128972       INR   999.0   GURUGRAM       HARYANA         122004.0   \n",
       "128973       INR   690.0  HYDERABAD     TELANGANA         500049.0   \n",
       "128974       INR  1199.0      Halol       Gujarat         389350.0   \n",
       "128975       INR   696.0     Raipur  CHHATTISGARH         492014.0   \n",
       "\n",
       "        ship-country    B2B  fulfilled-by New  PendingS  \n",
       "128971            IN  False           NaN NaN       NaN  \n",
       "128972            IN  False           NaN NaN       NaN  \n",
       "128973            IN  False           NaN NaN       NaN  \n",
       "128974            IN  False           NaN NaN       NaN  \n",
       "128975            IN  False           NaN NaN       NaN  \n",
       "\n",
       "[5 rows x 21 columns]"
      ]
     },
     "execution_count": 4,
     "metadata": {},
     "output_type": "execute_result"
    }
   ],
   "source": [
    "# The last few rows of the dataframe\n",
    "df.tail()"
   ]
  },
  {
   "cell_type": "code",
   "execution_count": 5,
   "id": "cbf7eccb-a753-4ea4-94b3-ed860b423fa2",
   "metadata": {},
   "outputs": [
    {
     "data": {
      "text/html": [
       "<div>\n",
       "<style scoped>\n",
       "    .dataframe tbody tr th:only-of-type {\n",
       "        vertical-align: middle;\n",
       "    }\n",
       "\n",
       "    .dataframe tbody tr th {\n",
       "        vertical-align: top;\n",
       "    }\n",
       "\n",
       "    .dataframe thead th {\n",
       "        text-align: right;\n",
       "    }\n",
       "</style>\n",
       "<table border=\"1\" class=\"dataframe\">\n",
       "  <thead>\n",
       "    <tr style=\"text-align: right;\">\n",
       "      <th></th>\n",
       "      <th>index</th>\n",
       "      <th>Order ID</th>\n",
       "      <th>Date</th>\n",
       "      <th>Status</th>\n",
       "      <th>Fulfilment</th>\n",
       "      <th>Sales Channel</th>\n",
       "      <th>ship-service-level</th>\n",
       "      <th>Category</th>\n",
       "      <th>Size</th>\n",
       "      <th>Courier Status</th>\n",
       "      <th>...</th>\n",
       "      <th>currency</th>\n",
       "      <th>Amount</th>\n",
       "      <th>ship-city</th>\n",
       "      <th>ship-state</th>\n",
       "      <th>ship-postal-code</th>\n",
       "      <th>ship-country</th>\n",
       "      <th>B2B</th>\n",
       "      <th>fulfilled-by</th>\n",
       "      <th>New</th>\n",
       "      <th>PendingS</th>\n",
       "    </tr>\n",
       "  </thead>\n",
       "  <tbody>\n",
       "    <tr>\n",
       "      <th>90859</th>\n",
       "      <td>90858</td>\n",
       "      <td>403-5723201-1217900</td>\n",
       "      <td>05-01-2022</td>\n",
       "      <td>Shipped</td>\n",
       "      <td>Amazon</td>\n",
       "      <td>Amazon.in</td>\n",
       "      <td>Expedited</td>\n",
       "      <td>T-shirt</td>\n",
       "      <td>M</td>\n",
       "      <td>Shipped</td>\n",
       "      <td>...</td>\n",
       "      <td>INR</td>\n",
       "      <td>666.0</td>\n",
       "      <td>NAGERCOIL</td>\n",
       "      <td>TAMIL NADU</td>\n",
       "      <td>629003.0</td>\n",
       "      <td>IN</td>\n",
       "      <td>False</td>\n",
       "      <td>NaN</td>\n",
       "      <td>NaN</td>\n",
       "      <td>NaN</td>\n",
       "    </tr>\n",
       "    <tr>\n",
       "      <th>76771</th>\n",
       "      <td>76770</td>\n",
       "      <td>406-5926611-3789145</td>\n",
       "      <td>05-09-2022</td>\n",
       "      <td>Shipped</td>\n",
       "      <td>Amazon</td>\n",
       "      <td>Amazon.in</td>\n",
       "      <td>Expedited</td>\n",
       "      <td>Shirt</td>\n",
       "      <td>M</td>\n",
       "      <td>Shipped</td>\n",
       "      <td>...</td>\n",
       "      <td>INR</td>\n",
       "      <td>524.0</td>\n",
       "      <td>AKHNOOR</td>\n",
       "      <td>JAMMU &amp; KASHMIR</td>\n",
       "      <td>181201.0</td>\n",
       "      <td>IN</td>\n",
       "      <td>False</td>\n",
       "      <td>NaN</td>\n",
       "      <td>NaN</td>\n",
       "      <td>NaN</td>\n",
       "    </tr>\n",
       "    <tr>\n",
       "      <th>116658</th>\n",
       "      <td>116657</td>\n",
       "      <td>403-5508238-2990709</td>\n",
       "      <td>06-09-2022</td>\n",
       "      <td>Shipped - Delivered to Buyer</td>\n",
       "      <td>Merchant</td>\n",
       "      <td>Amazon.in</td>\n",
       "      <td>Standard</td>\n",
       "      <td>Blazzer</td>\n",
       "      <td>3XL</td>\n",
       "      <td>Shipped</td>\n",
       "      <td>...</td>\n",
       "      <td>INR</td>\n",
       "      <td>735.0</td>\n",
       "      <td>mumbai</td>\n",
       "      <td>MAHARASHTRA</td>\n",
       "      <td>400008.0</td>\n",
       "      <td>IN</td>\n",
       "      <td>False</td>\n",
       "      <td>Easy Ship</td>\n",
       "      <td>NaN</td>\n",
       "      <td>NaN</td>\n",
       "    </tr>\n",
       "  </tbody>\n",
       "</table>\n",
       "<p>3 rows × 21 columns</p>\n",
       "</div>"
      ],
      "text/plain": [
       "         index             Order ID        Date                        Status  \\\n",
       "90859    90858  403-5723201-1217900  05-01-2022                       Shipped   \n",
       "76771    76770  406-5926611-3789145  05-09-2022                       Shipped   \n",
       "116658  116657  403-5508238-2990709  06-09-2022  Shipped - Delivered to Buyer   \n",
       "\n",
       "       Fulfilment Sales Channel ship-service-level Category Size  \\\n",
       "90859      Amazon     Amazon.in          Expedited  T-shirt    M   \n",
       "76771      Amazon     Amazon.in          Expedited    Shirt    M   \n",
       "116658   Merchant     Amazon.in           Standard  Blazzer  3XL   \n",
       "\n",
       "       Courier Status  ...  currency Amount  ship-city       ship-state  \\\n",
       "90859         Shipped  ...       INR  666.0  NAGERCOIL       TAMIL NADU   \n",
       "76771         Shipped  ...       INR  524.0    AKHNOOR  JAMMU & KASHMIR   \n",
       "116658        Shipped  ...       INR  735.0     mumbai      MAHARASHTRA   \n",
       "\n",
       "       ship-postal-code  ship-country    B2B  fulfilled-by New  PendingS  \n",
       "90859          629003.0            IN  False           NaN NaN       NaN  \n",
       "76771          181201.0            IN  False           NaN NaN       NaN  \n",
       "116658         400008.0            IN  False     Easy Ship NaN       NaN  \n",
       "\n",
       "[3 rows x 21 columns]"
      ]
     },
     "execution_count": 5,
     "metadata": {},
     "output_type": "execute_result"
    }
   ],
   "source": [
    "## Random sample of 3 rows from the DataFrame\n",
    "df.sample(3)"
   ]
  },
  {
   "cell_type": "code",
   "execution_count": 6,
   "id": "1d2ad32c-f481-42d4-978b-3f8922349b2b",
   "metadata": {},
   "outputs": [
    {
     "data": {
      "text/plain": [
       "(128976, 21)"
      ]
     },
     "execution_count": 6,
     "metadata": {},
     "output_type": "execute_result"
    }
   ],
   "source": [
    "# Shape of the data\n",
    "df.shape"
   ]
  },
  {
   "cell_type": "code",
   "execution_count": 7,
   "id": "54ba05ae-26eb-4f13-82e6-e5a76d4d8fa8",
   "metadata": {},
   "outputs": [
    {
     "data": {
      "text/plain": [
       "2708496"
      ]
     },
     "execution_count": 7,
     "metadata": {},
     "output_type": "execute_result"
    }
   ],
   "source": [
    "# Total size of the data\n",
    "df.size"
   ]
  },
  {
   "cell_type": "code",
   "execution_count": 8,
   "id": "c269b1ae-1670-4a01-8b07-96d9f2e5b517",
   "metadata": {},
   "outputs": [
    {
     "name": "stdout",
     "output_type": "stream",
     "text": [
      "<class 'pandas.core.frame.DataFrame'>\n",
      "RangeIndex: 128976 entries, 0 to 128975\n",
      "Data columns (total 21 columns):\n",
      " #   Column              Non-Null Count   Dtype  \n",
      "---  ------              --------------   -----  \n",
      " 0   index               128976 non-null  int64  \n",
      " 1   Order ID            128976 non-null  object \n",
      " 2   Date                128976 non-null  object \n",
      " 3   Status              128976 non-null  object \n",
      " 4   Fulfilment          128976 non-null  object \n",
      " 5   Sales Channel       128976 non-null  object \n",
      " 6   ship-service-level  128976 non-null  object \n",
      " 7   Category            128976 non-null  object \n",
      " 8   Size                128976 non-null  object \n",
      " 9   Courier Status      128976 non-null  object \n",
      " 10  Qty                 128976 non-null  int64  \n",
      " 11  currency            121176 non-null  object \n",
      " 12  Amount              121176 non-null  float64\n",
      " 13  ship-city           128941 non-null  object \n",
      " 14  ship-state          128941 non-null  object \n",
      " 15  ship-postal-code    128941 non-null  float64\n",
      " 16  ship-country        128941 non-null  object \n",
      " 17  B2B                 128976 non-null  bool   \n",
      " 18  fulfilled-by        39263 non-null   object \n",
      " 19  New                 0 non-null       float64\n",
      " 20  PendingS            0 non-null       float64\n",
      "dtypes: bool(1), float64(4), int64(2), object(14)\n",
      "memory usage: 19.8+ MB\n"
     ]
    }
   ],
   "source": [
    "# Basic information about the data\n",
    "df.info()"
   ]
  },
  {
   "cell_type": "code",
   "execution_count": 9,
   "id": "3ba5e093-ebb3-4e74-8c12-c0afbde181b8",
   "metadata": {},
   "outputs": [
    {
     "data": {
      "text/plain": [
       "index                 128808\n",
       "Order ID              120229\n",
       "Date                      91\n",
       "Status                    13\n",
       "Fulfilment                 2\n",
       "Sales Channel              2\n",
       "ship-service-level         2\n",
       "Category                   9\n",
       "Size                      11\n",
       "Courier Status             4\n",
       "Qty                       10\n",
       "currency                   1\n",
       "Amount                  1408\n",
       "ship-city               8948\n",
       "ship-state                69\n",
       "ship-postal-code        9454\n",
       "ship-country               1\n",
       "B2B                        2\n",
       "fulfilled-by               1\n",
       "New                        0\n",
       "PendingS                   0\n",
       "dtype: int64"
      ]
     },
     "execution_count": 9,
     "metadata": {},
     "output_type": "execute_result"
    }
   ],
   "source": [
    "# Checking number of unique values of each columns\n",
    "df.nunique()"
   ]
  },
  {
   "cell_type": "code",
   "execution_count": 10,
   "id": "76780728-2228-4e56-a317-8822a015119d",
   "metadata": {},
   "outputs": [
    {
     "data": {
      "text/plain": [
       "array(['Cancelled', 'Shipped - Delivered to Buyer', 'Shipped',\n",
       "       'Shipped - Returned to Seller', 'Shipped - Rejected by Buyer',\n",
       "       'Shipped - Lost in Transit', 'Shipped - Out for Delivery',\n",
       "       'Shipped - Returning to Seller', 'Shipped - Picked Up', 'Pending',\n",
       "       'Pending - Waiting for Pick Up', 'Shipped - Damaged', 'Shipping'],\n",
       "      dtype=object)"
      ]
     },
     "execution_count": 10,
     "metadata": {},
     "output_type": "execute_result"
    }
   ],
   "source": [
    "df[\"Status\"].unique()"
   ]
  },
  {
   "cell_type": "code",
   "execution_count": 11,
   "id": "c674f36d-0c84-4c97-8336-b68180df4168",
   "metadata": {},
   "outputs": [
    {
     "data": {
      "text/plain": [
       "array(['Merchant', 'Amazon'], dtype=object)"
      ]
     },
     "execution_count": 11,
     "metadata": {},
     "output_type": "execute_result"
    }
   ],
   "source": [
    "df[\"Fulfilment\"].unique()"
   ]
  },
  {
   "cell_type": "code",
   "execution_count": 12,
   "id": "71e15800-56b9-4891-a097-098a370bb564",
   "metadata": {},
   "outputs": [
    {
     "data": {
      "text/plain": [
       "array(['Amazon.in', 'Non-Amazon'], dtype=object)"
      ]
     },
     "execution_count": 12,
     "metadata": {},
     "output_type": "execute_result"
    }
   ],
   "source": [
    "df[\"Sales Channel\"].unique()"
   ]
  },
  {
   "cell_type": "code",
   "execution_count": 13,
   "id": "4d131469-2a72-4152-9d6b-388e5ccb1536",
   "metadata": {},
   "outputs": [
    {
     "data": {
      "text/plain": [
       "array(['Standard', 'Expedited'], dtype=object)"
      ]
     },
     "execution_count": 13,
     "metadata": {},
     "output_type": "execute_result"
    }
   ],
   "source": [
    "df[\"ship-service-level\"].unique()"
   ]
  },
  {
   "cell_type": "code",
   "execution_count": 14,
   "id": "a57a3689-e6bf-4e98-9050-57180f865b8c",
   "metadata": {},
   "outputs": [
    {
     "data": {
      "text/plain": [
       "array(['T-shirt', 'Shirt', 'Blazzer', 'Trousers', 'Perfume', 'Socks',\n",
       "       'Shoes', 'Wallet', 'Watch'], dtype=object)"
      ]
     },
     "execution_count": 14,
     "metadata": {},
     "output_type": "execute_result"
    }
   ],
   "source": [
    "df[\"Category\"].unique()"
   ]
  },
  {
   "cell_type": "code",
   "execution_count": 15,
   "id": "8fe97126-7990-4d39-9bb4-273f8f5eadf2",
   "metadata": {},
   "outputs": [
    {
     "data": {
      "text/plain": [
       "array(['S', '3XL', 'XL', 'L', 'XXL', 'XS', '6XL', 'M', '4XL', 'Free',\n",
       "       '5XL'], dtype=object)"
      ]
     },
     "execution_count": 15,
     "metadata": {},
     "output_type": "execute_result"
    }
   ],
   "source": [
    "df[\"Size\"].unique()"
   ]
  },
  {
   "cell_type": "code",
   "execution_count": 16,
   "id": "45b91469",
   "metadata": {},
   "outputs": [
    {
     "data": {
      "text/plain": [
       "array(['MAHARASHTRA', 'KARNATAKA', 'PUDUCHERRY', 'TAMIL NADU',\n",
       "       'UTTAR PRADESH', 'CHANDIGARH', 'TELANGANA', 'ANDHRA PRADESH',\n",
       "       'RAJASTHAN', 'DELHI', 'HARYANA', 'ASSAM', 'JHARKHAND',\n",
       "       'CHHATTISGARH', 'ODISHA', 'KERALA', 'MADHYA PRADESH',\n",
       "       'WEST BENGAL', 'NAGALAND', 'Gujarat', 'UTTARAKHAND', 'BIHAR',\n",
       "       'JAMMU & KASHMIR', 'PUNJAB', 'HIMACHAL PRADESH',\n",
       "       'ARUNACHAL PRADESH', 'Goa', 'MEGHALAYA', 'GOA', 'MANIPUR',\n",
       "       'TRIPURA', 'LADAKH', 'DADRA AND NAGAR', 'SIKKIM', 'Delhi', nan,\n",
       "       'ANDAMAN & NICOBAR', 'Punjab', 'Rajshthan', 'Manipur', 'rajasthan',\n",
       "       'Odisha', 'NL', 'Bihar', 'MIZORAM', 'punjab', 'New Delhi',\n",
       "       'Rajasthan', 'Punjab/Mohali/Zirakpur', 'Puducherry', 'delhi', 'RJ',\n",
       "       'Chandigarh', 'orissa', 'LAKSHADWEEP', 'goa', 'PB', 'APO',\n",
       "       'Arunachal Pradesh', 'AR', 'Pondicherry', 'Sikkim',\n",
       "       'Arunachal pradesh', 'Nagaland', 'bihar', 'Mizoram', 'rajsthan',\n",
       "       'Orissa', 'Rajsthan', 'Meghalaya'], dtype=object)"
      ]
     },
     "execution_count": 16,
     "metadata": {},
     "output_type": "execute_result"
    }
   ],
   "source": [
    "df[\"ship-state\"].unique()"
   ]
  },
  {
   "cell_type": "code",
   "execution_count": 17,
   "id": "7843371d",
   "metadata": {},
   "outputs": [
    {
     "data": {
      "text/plain": [
       "array(['MUMBAI', 'BENGALURU', 'NAVI MUMBAI', ...,\n",
       "       'GULABPURA, Distt BHILWARA', 'Prayagraj (ALLAHABAD)', 'Halol'],\n",
       "      dtype=object)"
      ]
     },
     "execution_count": 17,
     "metadata": {},
     "output_type": "execute_result"
    }
   ],
   "source": [
    "df['ship-city'].unique()"
   ]
  },
  {
   "cell_type": "code",
   "execution_count": 18,
   "id": "6a897436-2661-499b-ae20-08cfb00bbd2e",
   "metadata": {},
   "outputs": [
    {
     "data": {
      "text/plain": [
       "array(['On the Way', 'Shipped', 'Cancelled', 'Unshipped'], dtype=object)"
      ]
     },
     "execution_count": 18,
     "metadata": {},
     "output_type": "execute_result"
    }
   ],
   "source": [
    "df[\"Courier Status\"].unique()"
   ]
  },
  {
   "cell_type": "code",
   "execution_count": 19,
   "id": "75b5c4ee-16a8-4d02-b43d-2f2479980d49",
   "metadata": {},
   "outputs": [
    {
     "data": {
      "text/plain": [
       "array([False,  True])"
      ]
     },
     "execution_count": 19,
     "metadata": {},
     "output_type": "execute_result"
    }
   ],
   "source": [
    "df[\"B2B\"].unique()"
   ]
  },
  {
   "cell_type": "code",
   "execution_count": 20,
   "id": "3fa2c205",
   "metadata": {},
   "outputs": [],
   "source": [
    "### replace value"
   ]
  },
  {
   "cell_type": "code",
   "execution_count": 21,
   "id": "01fe0630",
   "metadata": {},
   "outputs": [],
   "source": [
    "replacement_dict = {\n",
    "    ('Goa', 'goa'): 'GOA',\n",
    "    ('Delhi', 'delhi', 'New Delhi'): 'DELHI',\n",
    "    ('Rajshthan', 'Rajasthan', 'Rajsthan', 'rajsthan', 'rajasthan', 'RJ'): 'RAJASTHAN',\n",
    "    ('Punjab', 'punjab', 'Punjab/Mohali/Zirakpur', 'PB', 'Chandigarh', 'CHANDIGARH'): 'PUNJAB',\n",
    "    'Manipur': 'MANIPUR',\n",
    "    ('Odisha', 'orissa', 'Orissa'): 'ODISHA',\n",
    "    ('NL', 'Nagaland'): 'NAGALAND',\n",
    "    ('bihar', 'Bihar'): 'BIHAR',\n",
    "    ('Puducherry', 'Pondicherry', 'PUDUCHERRY'): 'TAMIL NADU',\n",
    "    'Mizoram': 'MIZORAM',\n",
    "    ('Arunachal Pradesh', 'Arunachal pradesh', 'AR'): 'ARUNACHAL PRADESH',\n",
    "    'APO': 'ANDHRA PRADESH',\n",
    "    'Meghalaya':'MEGHALAYA',\n",
    "    'Sikkim':'SIKKIM',\n",
    "    'Gujarat': 'GUJARAT'}"
   ]
  },
  {
   "cell_type": "code",
   "execution_count": 22,
   "id": "2ce9421e",
   "metadata": {},
   "outputs": [],
   "source": [
    "def replace_multiple(df, column, replacements):\n",
    "    for keys, value in replacements.items():\n",
    "        if isinstance(keys, tuple):\n",
    "            df[\"ship-state\"] = df[\"ship-state\"].replace(keys, value)\n",
    "        else:\n",
    "            df[\"ship-state\"] = df[\"ship-state\"].replace(keys, value)\n",
    "    return df"
   ]
  },
  {
   "cell_type": "code",
   "execution_count": 23,
   "id": "1ad0a5f2",
   "metadata": {},
   "outputs": [],
   "source": [
    "df = replace_multiple(df, 'ship-state', replacement_dict)\n"
   ]
  },
  {
   "cell_type": "code",
   "execution_count": 24,
   "id": "51cfb44a",
   "metadata": {},
   "outputs": [
    {
     "data": {
      "text/plain": [
       "array(['MAHARASHTRA', 'KARNATAKA', 'TAMIL NADU', 'UTTAR PRADESH',\n",
       "       'PUNJAB', 'TELANGANA', 'ANDHRA PRADESH', 'RAJASTHAN', 'DELHI',\n",
       "       'HARYANA', 'ASSAM', 'JHARKHAND', 'CHHATTISGARH', 'ODISHA',\n",
       "       'KERALA', 'MADHYA PRADESH', 'WEST BENGAL', 'NAGALAND', 'GUJARAT',\n",
       "       'UTTARAKHAND', 'BIHAR', 'JAMMU & KASHMIR', 'HIMACHAL PRADESH',\n",
       "       'ARUNACHAL PRADESH', 'GOA', 'MEGHALAYA', 'MANIPUR', 'TRIPURA',\n",
       "       'LADAKH', 'DADRA AND NAGAR', 'SIKKIM', nan, 'ANDAMAN & NICOBAR',\n",
       "       'MIZORAM', 'LAKSHADWEEP'], dtype=object)"
      ]
     },
     "execution_count": 24,
     "metadata": {},
     "output_type": "execute_result"
    }
   ],
   "source": [
    "df ['ship-state'].unique()"
   ]
  },
  {
   "cell_type": "code",
   "execution_count": 25,
   "id": "b52ba0e1-31cd-4660-be73-0d3c221dcb11",
   "metadata": {},
   "outputs": [
    {
     "data": {
      "text/plain": [
       "index                   0.000000\n",
       "Order ID                0.000000\n",
       "Date                    0.000000\n",
       "Status                  0.000000\n",
       "Fulfilment              0.000000\n",
       "Sales Channel           0.000000\n",
       "ship-service-level      0.000000\n",
       "Category                0.000000\n",
       "Size                    0.000000\n",
       "Courier Status          0.000000\n",
       "Qty                     0.000000\n",
       "currency                6.047637\n",
       "Amount                  6.047637\n",
       "ship-city               0.027137\n",
       "ship-state              0.027137\n",
       "ship-postal-code        0.027137\n",
       "ship-country            0.027137\n",
       "B2B                     0.000000\n",
       "fulfilled-by           69.557902\n",
       "New                   100.000000\n",
       "PendingS              100.000000\n",
       "dtype: float64"
      ]
     },
     "execution_count": 25,
     "metadata": {},
     "output_type": "execute_result"
    }
   ],
   "source": [
    "# checking null values \n",
    "df.isna().sum()/len(df)*100"
   ]
  },
  {
   "cell_type": "markdown",
   "id": "fdcba828-d8bb-48be-92b4-6c90467bcd84",
   "metadata": {},
   "source": [
    "### Handing missing values"
   ]
  },
  {
   "cell_type": "code",
   "execution_count": 26,
   "id": "a55d8809-c414-4994-8283-5d3ac095e25a",
   "metadata": {},
   "outputs": [],
   "source": [
    "# Dropping the columns New,PendingS,fulfilled-by,currency,ship-country\n",
    "df.drop([\"New\",\"PendingS\",\"fulfilled-by\",\"currency\",\"ship-country\"],axis=1,inplace=True)"
   ]
  },
  {
   "cell_type": "markdown",
   "id": "7dda3337-0c6d-4874-8e87-e2fb10634662",
   "metadata": {},
   "source": [
    "* Dropped the columns that I did not need for the analyze.\n",
    "* I dropped columns New,PendingS,fulfilled-by and currency."
   ]
  },
  {
   "cell_type": "code",
   "execution_count": 27,
   "id": "af8301b5-6706-4803-b0e3-1691bc47b5b8",
   "metadata": {},
   "outputs": [
    {
     "data": {
      "text/html": [
       "<div>\n",
       "<style scoped>\n",
       "    .dataframe tbody tr th:only-of-type {\n",
       "        vertical-align: middle;\n",
       "    }\n",
       "\n",
       "    .dataframe tbody tr th {\n",
       "        vertical-align: top;\n",
       "    }\n",
       "\n",
       "    .dataframe thead th {\n",
       "        text-align: right;\n",
       "    }\n",
       "</style>\n",
       "<table border=\"1\" class=\"dataframe\">\n",
       "  <thead>\n",
       "    <tr style=\"text-align: right;\">\n",
       "      <th></th>\n",
       "      <th>index</th>\n",
       "      <th>Order ID</th>\n",
       "      <th>Date</th>\n",
       "      <th>Status</th>\n",
       "      <th>Fulfilment</th>\n",
       "      <th>Sales Channel</th>\n",
       "      <th>ship-service-level</th>\n",
       "      <th>Category</th>\n",
       "      <th>Size</th>\n",
       "      <th>Courier Status</th>\n",
       "      <th>Qty</th>\n",
       "      <th>Amount</th>\n",
       "      <th>ship-city</th>\n",
       "      <th>ship-state</th>\n",
       "      <th>ship-postal-code</th>\n",
       "      <th>B2B</th>\n",
       "    </tr>\n",
       "  </thead>\n",
       "  <tbody>\n",
       "    <tr>\n",
       "      <th>0</th>\n",
       "      <td>0</td>\n",
       "      <td>405-8078784-5731545</td>\n",
       "      <td>04-30-22</td>\n",
       "      <td>Cancelled</td>\n",
       "      <td>Merchant</td>\n",
       "      <td>Amazon.in</td>\n",
       "      <td>Standard</td>\n",
       "      <td>T-shirt</td>\n",
       "      <td>S</td>\n",
       "      <td>On the Way</td>\n",
       "      <td>0</td>\n",
       "      <td>647.62</td>\n",
       "      <td>MUMBAI</td>\n",
       "      <td>MAHARASHTRA</td>\n",
       "      <td>400081.0</td>\n",
       "      <td>False</td>\n",
       "    </tr>\n",
       "    <tr>\n",
       "      <th>1</th>\n",
       "      <td>1</td>\n",
       "      <td>171-9198151-1101146</td>\n",
       "      <td>04-30-22</td>\n",
       "      <td>Shipped - Delivered to Buyer</td>\n",
       "      <td>Merchant</td>\n",
       "      <td>Amazon.in</td>\n",
       "      <td>Standard</td>\n",
       "      <td>Shirt</td>\n",
       "      <td>3XL</td>\n",
       "      <td>Shipped</td>\n",
       "      <td>1</td>\n",
       "      <td>406.00</td>\n",
       "      <td>BENGALURU</td>\n",
       "      <td>KARNATAKA</td>\n",
       "      <td>560085.0</td>\n",
       "      <td>False</td>\n",
       "    </tr>\n",
       "    <tr>\n",
       "      <th>2</th>\n",
       "      <td>2</td>\n",
       "      <td>404-0687676-7273146</td>\n",
       "      <td>04-30-22</td>\n",
       "      <td>Shipped</td>\n",
       "      <td>Amazon</td>\n",
       "      <td>Amazon.in</td>\n",
       "      <td>Expedited</td>\n",
       "      <td>Shirt</td>\n",
       "      <td>XL</td>\n",
       "      <td>Shipped</td>\n",
       "      <td>1</td>\n",
       "      <td>329.00</td>\n",
       "      <td>NAVI MUMBAI</td>\n",
       "      <td>MAHARASHTRA</td>\n",
       "      <td>410210.0</td>\n",
       "      <td>True</td>\n",
       "    </tr>\n",
       "    <tr>\n",
       "      <th>3</th>\n",
       "      <td>3</td>\n",
       "      <td>403-9615377-8133951</td>\n",
       "      <td>04-30-22</td>\n",
       "      <td>Cancelled</td>\n",
       "      <td>Merchant</td>\n",
       "      <td>Amazon.in</td>\n",
       "      <td>Standard</td>\n",
       "      <td>Blazzer</td>\n",
       "      <td>L</td>\n",
       "      <td>On the Way</td>\n",
       "      <td>0</td>\n",
       "      <td>753.33</td>\n",
       "      <td>PUDUCHERRY</td>\n",
       "      <td>TAMIL NADU</td>\n",
       "      <td>605008.0</td>\n",
       "      <td>False</td>\n",
       "    </tr>\n",
       "    <tr>\n",
       "      <th>4</th>\n",
       "      <td>4</td>\n",
       "      <td>407-1069790-7240320</td>\n",
       "      <td>04-30-22</td>\n",
       "      <td>Shipped</td>\n",
       "      <td>Amazon</td>\n",
       "      <td>Amazon.in</td>\n",
       "      <td>Expedited</td>\n",
       "      <td>Trousers</td>\n",
       "      <td>3XL</td>\n",
       "      <td>Shipped</td>\n",
       "      <td>1</td>\n",
       "      <td>574.00</td>\n",
       "      <td>CHENNAI</td>\n",
       "      <td>TAMIL NADU</td>\n",
       "      <td>600073.0</td>\n",
       "      <td>False</td>\n",
       "    </tr>\n",
       "  </tbody>\n",
       "</table>\n",
       "</div>"
      ],
      "text/plain": [
       "   index             Order ID      Date                        Status  \\\n",
       "0      0  405-8078784-5731545  04-30-22                     Cancelled   \n",
       "1      1  171-9198151-1101146  04-30-22  Shipped - Delivered to Buyer   \n",
       "2      2  404-0687676-7273146  04-30-22                       Shipped   \n",
       "3      3  403-9615377-8133951  04-30-22                     Cancelled   \n",
       "4      4  407-1069790-7240320  04-30-22                       Shipped   \n",
       "\n",
       "  Fulfilment Sales Channel ship-service-level  Category Size Courier Status  \\\n",
       "0   Merchant     Amazon.in           Standard   T-shirt    S     On the Way   \n",
       "1   Merchant     Amazon.in           Standard     Shirt  3XL        Shipped   \n",
       "2     Amazon     Amazon.in          Expedited     Shirt   XL        Shipped   \n",
       "3   Merchant     Amazon.in           Standard   Blazzer    L     On the Way   \n",
       "4     Amazon     Amazon.in          Expedited  Trousers  3XL        Shipped   \n",
       "\n",
       "   Qty  Amount    ship-city   ship-state  ship-postal-code    B2B  \n",
       "0    0  647.62       MUMBAI  MAHARASHTRA          400081.0  False  \n",
       "1    1  406.00    BENGALURU    KARNATAKA          560085.0  False  \n",
       "2    1  329.00  NAVI MUMBAI  MAHARASHTRA          410210.0   True  \n",
       "3    0  753.33   PUDUCHERRY   TAMIL NADU          605008.0  False  \n",
       "4    1  574.00      CHENNAI   TAMIL NADU          600073.0  False  "
      ]
     },
     "execution_count": 27,
     "metadata": {},
     "output_type": "execute_result"
    }
   ],
   "source": [
    "df.head()"
   ]
  },
  {
   "cell_type": "code",
   "execution_count": 28,
   "id": "c81c4f90-527e-46db-b810-481ae36d1499",
   "metadata": {},
   "outputs": [],
   "source": [
    "# Replancing missing value of Amount column with median\n",
    "df[\"Amount\"].fillna(df[\"Amount\"].median(),inplace=True)"
   ]
  },
  {
   "cell_type": "code",
   "execution_count": 29,
   "id": "5f1bb699-06a2-47d5-a74d-72357df2c865",
   "metadata": {},
   "outputs": [],
   "source": [
    "# Dropping missing value row wise\n",
    "df.dropna(inplace=True)"
   ]
  },
  {
   "cell_type": "markdown",
   "id": "88e9605f-4eba-496a-ae66-37a18046fde7",
   "metadata": {},
   "source": [
    "* New,PendingS,fulfilled-by columns had a lot of missing data.\n",
    "  So I decided to drop the column.\n",
    "\n",
    "* Amount column had 6% missing data. So I replaced the missing values of Amount column with Median of Amount.\n",
    "\n",
    "* ship-city ,ship-state,ship-postal-code columns had 0.27% of missing data.\n",
    "  So I dropped remianing missing data of the entire dataframe rowwise"
   ]
  },
  {
   "cell_type": "code",
   "execution_count": 30,
   "id": "7985baea-7a0f-40db-8e21-d6c80dad2c6f",
   "metadata": {},
   "outputs": [
    {
     "data": {
      "text/plain": [
       "index                 0.0\n",
       "Order ID              0.0\n",
       "Date                  0.0\n",
       "Status                0.0\n",
       "Fulfilment            0.0\n",
       "Sales Channel         0.0\n",
       "ship-service-level    0.0\n",
       "Category              0.0\n",
       "Size                  0.0\n",
       "Courier Status        0.0\n",
       "Qty                   0.0\n",
       "Amount                0.0\n",
       "ship-city             0.0\n",
       "ship-state            0.0\n",
       "ship-postal-code      0.0\n",
       "B2B                   0.0\n",
       "dtype: float64"
      ]
     },
     "execution_count": 30,
     "metadata": {},
     "output_type": "execute_result"
    }
   ],
   "source": [
    "# Again check missing in each column \n",
    "df.isna().sum()/len(df)*100"
   ]
  },
  {
   "cell_type": "code",
   "execution_count": 31,
   "id": "962850a6-1dd9-4a6a-b246-d48ceaaf6b1e",
   "metadata": {},
   "outputs": [
    {
     "data": {
      "text/plain": [
       "166"
      ]
     },
     "execution_count": 31,
     "metadata": {},
     "output_type": "execute_result"
    }
   ],
   "source": [
    "# Checking duplicate values\n",
    "df.duplicated().sum()"
   ]
  },
  {
   "cell_type": "code",
   "execution_count": 32,
   "id": "daca7746-5cc8-4489-be0a-ae6ba5201330",
   "metadata": {},
   "outputs": [],
   "source": [
    "# Drop duplicate values\n",
    "df.drop_duplicates(inplace=True)"
   ]
  },
  {
   "cell_type": "code",
   "execution_count": 33,
   "id": "2fdcc551-d9b9-4d94-8fdc-a172a3d3fe3c",
   "metadata": {},
   "outputs": [
    {
     "data": {
      "text/plain": [
       "Index(['index', 'Order ID', 'Date', 'Status', 'Fulfilment', 'Sales Channel',\n",
       "       'ship-service-level', 'Category', 'Size', 'Courier Status', 'Qty',\n",
       "       'Amount', 'ship-city', 'ship-state', 'ship-postal-code', 'B2B'],\n",
       "      dtype='object')"
      ]
     },
     "execution_count": 33,
     "metadata": {},
     "output_type": "execute_result"
    }
   ],
   "source": [
    "# Below are the Remaining columns after handling missing values.\n",
    "df.columns"
   ]
  },
  {
   "cell_type": "code",
   "execution_count": 34,
   "id": "7d83ba98-2fd8-4b2c-aba2-52327a85a1ef",
   "metadata": {},
   "outputs": [],
   "source": [
    "# Change data type\n",
    "df['ship-postal-code']= df['ship-postal-code'].astype('int')"
   ]
  },
  {
   "cell_type": "code",
   "execution_count": 35,
   "id": "c30d05d6-9c58-424e-b64b-5e1a022448cb",
   "metadata": {},
   "outputs": [
    {
     "data": {
      "text/plain": [
       "dtype('int32')"
      ]
     },
     "execution_count": 35,
     "metadata": {},
     "output_type": "execute_result"
    }
   ],
   "source": [
    "# Checking whether data type change or not\n",
    "df[\"ship-postal-code\"].dtype"
   ]
  },
  {
   "cell_type": "code",
   "execution_count": 36,
   "id": "189e088f-863a-4600-a4e5-cfd235eea9be",
   "metadata": {},
   "outputs": [],
   "source": [
    "# Converting the 'date' column to a datetime format\n",
    "df['Date']= pd.to_datetime(df['Date'],errors='coerce')"
   ]
  },
  {
   "cell_type": "code",
   "execution_count": 37,
   "id": "b245c06e-954c-4e66-a4da-72c40facecea",
   "metadata": {},
   "outputs": [],
   "source": [
    "# Rename column\n",
    "df.rename(columns={\"Qty\":\"Quantity\"},inplace=True)"
   ]
  },
  {
   "cell_type": "code",
   "execution_count": 38,
   "id": "3ec47973-1760-43c8-9253-a97d8fb99e4d",
   "metadata": {},
   "outputs": [
    {
     "name": "stdout",
     "output_type": "stream",
     "text": [
      "<class 'pandas.core.frame.DataFrame'>\n",
      "Int64Index: 128775 entries, 0 to 128975\n",
      "Data columns (total 16 columns):\n",
      " #   Column              Non-Null Count   Dtype         \n",
      "---  ------              --------------   -----         \n",
      " 0   index               128775 non-null  int64         \n",
      " 1   Order ID            128775 non-null  object        \n",
      " 2   Date                128775 non-null  datetime64[ns]\n",
      " 3   Status              128775 non-null  object        \n",
      " 4   Fulfilment          128775 non-null  object        \n",
      " 5   Sales Channel       128775 non-null  object        \n",
      " 6   ship-service-level  128775 non-null  object        \n",
      " 7   Category            128775 non-null  object        \n",
      " 8   Size                128775 non-null  object        \n",
      " 9   Courier Status      128775 non-null  object        \n",
      " 10  Quantity            128775 non-null  int64         \n",
      " 11  Amount              128775 non-null  float64       \n",
      " 12  ship-city           128775 non-null  object        \n",
      " 13  ship-state          128775 non-null  object        \n",
      " 14  ship-postal-code    128775 non-null  int32         \n",
      " 15  B2B                 128775 non-null  bool          \n",
      "dtypes: bool(1), datetime64[ns](1), float64(1), int32(1), int64(2), object(10)\n",
      "memory usage: 15.4+ MB\n"
     ]
    }
   ],
   "source": [
    "df.info()"
   ]
  },
  {
   "cell_type": "code",
   "execution_count": 39,
   "id": "4960fba0-1c5a-41ce-9445-466436938866",
   "metadata": {},
   "outputs": [
    {
     "data": {
      "text/plain": [
       "Index(['index', 'Order ID', 'Date', 'Status', 'Fulfilment', 'Sales Channel',\n",
       "       'ship-service-level', 'Category', 'Size', 'Courier Status', 'Quantity',\n",
       "       'Amount', 'ship-city', 'ship-state', 'ship-postal-code', 'B2B'],\n",
       "      dtype='object')"
      ]
     },
     "execution_count": 39,
     "metadata": {},
     "output_type": "execute_result"
    }
   ],
   "source": [
    "# checking columns name after rename column\n",
    "df.columns"
   ]
  },
  {
   "cell_type": "code",
   "execution_count": 40,
   "id": "3becb47a-3874-413c-a3a7-04e43466155b",
   "metadata": {},
   "outputs": [
    {
     "data": {
      "text/html": [
       "<div>\n",
       "<style scoped>\n",
       "    .dataframe tbody tr th:only-of-type {\n",
       "        vertical-align: middle;\n",
       "    }\n",
       "\n",
       "    .dataframe tbody tr th {\n",
       "        vertical-align: top;\n",
       "    }\n",
       "\n",
       "    .dataframe thead th {\n",
       "        text-align: right;\n",
       "    }\n",
       "</style>\n",
       "<table border=\"1\" class=\"dataframe\">\n",
       "  <thead>\n",
       "    <tr style=\"text-align: right;\">\n",
       "      <th></th>\n",
       "      <th>index</th>\n",
       "      <th>Quantity</th>\n",
       "      <th>Amount</th>\n",
       "      <th>ship-postal-code</th>\n",
       "    </tr>\n",
       "  </thead>\n",
       "  <tbody>\n",
       "    <tr>\n",
       "      <th>count</th>\n",
       "      <td>128775.000000</td>\n",
       "      <td>128775.000000</td>\n",
       "      <td>128775.000000</td>\n",
       "      <td>128775.00000</td>\n",
       "    </tr>\n",
       "    <tr>\n",
       "      <th>mean</th>\n",
       "      <td>64564.787948</td>\n",
       "      <td>0.904430</td>\n",
       "      <td>646.004662</td>\n",
       "      <td>463957.07107</td>\n",
       "    </tr>\n",
       "    <tr>\n",
       "      <th>std</th>\n",
       "      <td>37192.505842</td>\n",
       "      <td>0.313359</td>\n",
       "      <td>272.797676</td>\n",
       "      <td>191478.52940</td>\n",
       "    </tr>\n",
       "    <tr>\n",
       "      <th>min</th>\n",
       "      <td>0.000000</td>\n",
       "      <td>0.000000</td>\n",
       "      <td>0.000000</td>\n",
       "      <td>110001.00000</td>\n",
       "    </tr>\n",
       "    <tr>\n",
       "      <th>25%</th>\n",
       "      <td>32371.500000</td>\n",
       "      <td>1.000000</td>\n",
       "      <td>459.000000</td>\n",
       "      <td>382421.00000</td>\n",
       "    </tr>\n",
       "    <tr>\n",
       "      <th>50%</th>\n",
       "      <td>64569.000000</td>\n",
       "      <td>1.000000</td>\n",
       "      <td>605.000000</td>\n",
       "      <td>500033.00000</td>\n",
       "    </tr>\n",
       "    <tr>\n",
       "      <th>75%</th>\n",
       "      <td>96772.500000</td>\n",
       "      <td>1.000000</td>\n",
       "      <td>771.000000</td>\n",
       "      <td>600024.00000</td>\n",
       "    </tr>\n",
       "    <tr>\n",
       "      <th>max</th>\n",
       "      <td>128974.000000</td>\n",
       "      <td>15.000000</td>\n",
       "      <td>5584.000000</td>\n",
       "      <td>989898.00000</td>\n",
       "    </tr>\n",
       "  </tbody>\n",
       "</table>\n",
       "</div>"
      ],
      "text/plain": [
       "               index       Quantity         Amount  ship-postal-code\n",
       "count  128775.000000  128775.000000  128775.000000      128775.00000\n",
       "mean    64564.787948       0.904430     646.004662      463957.07107\n",
       "std     37192.505842       0.313359     272.797676      191478.52940\n",
       "min         0.000000       0.000000       0.000000      110001.00000\n",
       "25%     32371.500000       1.000000     459.000000      382421.00000\n",
       "50%     64569.000000       1.000000     605.000000      500033.00000\n",
       "75%     96772.500000       1.000000     771.000000      600024.00000\n",
       "max    128974.000000      15.000000    5584.000000      989898.00000"
      ]
     },
     "execution_count": 40,
     "metadata": {},
     "output_type": "execute_result"
    }
   ],
   "source": [
    "# the descriptive statistics of the data\n",
    "df.describe()"
   ]
  },
  {
   "cell_type": "markdown",
   "id": "5c103486-73e7-4e43-8536-f16a3a80d2a1",
   "metadata": {},
   "source": [
    "## Exploratory Data Analysis"
   ]
  },
  {
   "cell_type": "markdown",
   "id": "8f8420cb-898c-48a3-a227-377e67ca59b2",
   "metadata": {},
   "source": [
    "## 1) Sales Overview: Understand the overall sales performance, trends, and patterns over time."
   ]
  },
  {
   "cell_type": "code",
   "execution_count": 41,
   "id": "73c63982-bd8a-459f-a489-0dae0465cea3",
   "metadata": {},
   "outputs": [],
   "source": [
    "# Extract week,year,month and day\n",
    "df['Week'] = df['Date'].dt.isocalendar().week\n",
    "df['Year'] = df['Date'].dt.year\n",
    "df['Day'] = df['Date'].dt.day\n",
    "df['Month'] = df['Date'].dt.month"
   ]
  },
  {
   "cell_type": "code",
   "execution_count": 42,
   "id": "5c013f77-1a46-48f5-8409-da2a20550c91",
   "metadata": {},
   "outputs": [],
   "source": [
    "#Create a 'Total Sales' column\n",
    "df['Total Sales'] = df['Amount'] * df['Quantity']"
   ]
  },
  {
   "cell_type": "code",
   "execution_count": 43,
   "id": "719e8217-e2d5-485f-95cf-6310c049f865",
   "metadata": {},
   "outputs": [],
   "source": [
    "#replace column value\n",
    "df['Month']=df['Month'].replace({3:'March',4:'April',5:'May',6:'June'})"
   ]
  },
  {
   "cell_type": "code",
   "execution_count": 44,
   "id": "98227eb3-3faa-454a-867d-430a757e2348",
   "metadata": {},
   "outputs": [],
   "source": [
    "# Day name return"
   ]
  },
  {
   "cell_type": "code",
   "execution_count": 45,
   "id": "df11d43f-a32b-4bbf-911f-753e1470aa66",
   "metadata": {},
   "outputs": [],
   "source": [
    "import datetime\n",
    "\n",
    "def int_to_dayname(Day):\n",
    "    reference_date = datetime.date(2022, 3, 1)   \n",
    "    actual_date = reference_date + datetime.timedelta(days=Day - 1)    \n",
    "    return actual_date.strftime('%A')"
   ]
  },
  {
   "cell_type": "code",
   "execution_count": 46,
   "id": "874461b3-226e-463e-8a6c-fcab630514bf",
   "metadata": {},
   "outputs": [],
   "source": [
    "#'Day_name' column create\n",
    "df['Day_name'] = df['Day'].apply(int_to_dayname)"
   ]
  },
  {
   "cell_type": "code",
   "execution_count": 47,
   "id": "5f843b36-96f7-4a1c-bde0-f45263c992dd",
   "metadata": {},
   "outputs": [
    {
     "data": {
      "text/html": [
       "<div>\n",
       "<style scoped>\n",
       "    .dataframe tbody tr th:only-of-type {\n",
       "        vertical-align: middle;\n",
       "    }\n",
       "\n",
       "    .dataframe tbody tr th {\n",
       "        vertical-align: top;\n",
       "    }\n",
       "\n",
       "    .dataframe thead th {\n",
       "        text-align: right;\n",
       "    }\n",
       "</style>\n",
       "<table border=\"1\" class=\"dataframe\">\n",
       "  <thead>\n",
       "    <tr style=\"text-align: right;\">\n",
       "      <th></th>\n",
       "      <th>index</th>\n",
       "      <th>Order ID</th>\n",
       "      <th>Date</th>\n",
       "      <th>Status</th>\n",
       "      <th>Fulfilment</th>\n",
       "      <th>Sales Channel</th>\n",
       "      <th>ship-service-level</th>\n",
       "      <th>Category</th>\n",
       "      <th>Size</th>\n",
       "      <th>Courier Status</th>\n",
       "      <th>...</th>\n",
       "      <th>ship-state</th>\n",
       "      <th>ship-postal-code</th>\n",
       "      <th>B2B</th>\n",
       "      <th>Week</th>\n",
       "      <th>Year</th>\n",
       "      <th>Day</th>\n",
       "      <th>Month</th>\n",
       "      <th>Total Sales</th>\n",
       "      <th>Day_name</th>\n",
       "      <th>Total Sales in Million</th>\n",
       "    </tr>\n",
       "  </thead>\n",
       "  <tbody>\n",
       "    <tr>\n",
       "      <th>0</th>\n",
       "      <td>0</td>\n",
       "      <td>405-8078784-5731545</td>\n",
       "      <td>2022-04-30</td>\n",
       "      <td>Cancelled</td>\n",
       "      <td>Merchant</td>\n",
       "      <td>Amazon.in</td>\n",
       "      <td>Standard</td>\n",
       "      <td>T-shirt</td>\n",
       "      <td>S</td>\n",
       "      <td>On the Way</td>\n",
       "      <td>...</td>\n",
       "      <td>MAHARASHTRA</td>\n",
       "      <td>400081</td>\n",
       "      <td>False</td>\n",
       "      <td>17</td>\n",
       "      <td>2022</td>\n",
       "      <td>30</td>\n",
       "      <td>April</td>\n",
       "      <td>0.0</td>\n",
       "      <td>Wednesday</td>\n",
       "      <td>0.000000</td>\n",
       "    </tr>\n",
       "    <tr>\n",
       "      <th>1</th>\n",
       "      <td>1</td>\n",
       "      <td>171-9198151-1101146</td>\n",
       "      <td>2022-04-30</td>\n",
       "      <td>Shipped - Delivered to Buyer</td>\n",
       "      <td>Merchant</td>\n",
       "      <td>Amazon.in</td>\n",
       "      <td>Standard</td>\n",
       "      <td>Shirt</td>\n",
       "      <td>3XL</td>\n",
       "      <td>Shipped</td>\n",
       "      <td>...</td>\n",
       "      <td>KARNATAKA</td>\n",
       "      <td>560085</td>\n",
       "      <td>False</td>\n",
       "      <td>17</td>\n",
       "      <td>2022</td>\n",
       "      <td>30</td>\n",
       "      <td>April</td>\n",
       "      <td>406.0</td>\n",
       "      <td>Wednesday</td>\n",
       "      <td>0.000406</td>\n",
       "    </tr>\n",
       "    <tr>\n",
       "      <th>2</th>\n",
       "      <td>2</td>\n",
       "      <td>404-0687676-7273146</td>\n",
       "      <td>2022-04-30</td>\n",
       "      <td>Shipped</td>\n",
       "      <td>Amazon</td>\n",
       "      <td>Amazon.in</td>\n",
       "      <td>Expedited</td>\n",
       "      <td>Shirt</td>\n",
       "      <td>XL</td>\n",
       "      <td>Shipped</td>\n",
       "      <td>...</td>\n",
       "      <td>MAHARASHTRA</td>\n",
       "      <td>410210</td>\n",
       "      <td>True</td>\n",
       "      <td>17</td>\n",
       "      <td>2022</td>\n",
       "      <td>30</td>\n",
       "      <td>April</td>\n",
       "      <td>329.0</td>\n",
       "      <td>Wednesday</td>\n",
       "      <td>0.000329</td>\n",
       "    </tr>\n",
       "    <tr>\n",
       "      <th>3</th>\n",
       "      <td>3</td>\n",
       "      <td>403-9615377-8133951</td>\n",
       "      <td>2022-04-30</td>\n",
       "      <td>Cancelled</td>\n",
       "      <td>Merchant</td>\n",
       "      <td>Amazon.in</td>\n",
       "      <td>Standard</td>\n",
       "      <td>Blazzer</td>\n",
       "      <td>L</td>\n",
       "      <td>On the Way</td>\n",
       "      <td>...</td>\n",
       "      <td>TAMIL NADU</td>\n",
       "      <td>605008</td>\n",
       "      <td>False</td>\n",
       "      <td>17</td>\n",
       "      <td>2022</td>\n",
       "      <td>30</td>\n",
       "      <td>April</td>\n",
       "      <td>0.0</td>\n",
       "      <td>Wednesday</td>\n",
       "      <td>0.000000</td>\n",
       "    </tr>\n",
       "    <tr>\n",
       "      <th>4</th>\n",
       "      <td>4</td>\n",
       "      <td>407-1069790-7240320</td>\n",
       "      <td>2022-04-30</td>\n",
       "      <td>Shipped</td>\n",
       "      <td>Amazon</td>\n",
       "      <td>Amazon.in</td>\n",
       "      <td>Expedited</td>\n",
       "      <td>Trousers</td>\n",
       "      <td>3XL</td>\n",
       "      <td>Shipped</td>\n",
       "      <td>...</td>\n",
       "      <td>TAMIL NADU</td>\n",
       "      <td>600073</td>\n",
       "      <td>False</td>\n",
       "      <td>17</td>\n",
       "      <td>2022</td>\n",
       "      <td>30</td>\n",
       "      <td>April</td>\n",
       "      <td>574.0</td>\n",
       "      <td>Wednesday</td>\n",
       "      <td>0.000574</td>\n",
       "    </tr>\n",
       "  </tbody>\n",
       "</table>\n",
       "<p>5 rows × 23 columns</p>\n",
       "</div>"
      ],
      "text/plain": [
       "   index             Order ID       Date                        Status  \\\n",
       "0      0  405-8078784-5731545 2022-04-30                     Cancelled   \n",
       "1      1  171-9198151-1101146 2022-04-30  Shipped - Delivered to Buyer   \n",
       "2      2  404-0687676-7273146 2022-04-30                       Shipped   \n",
       "3      3  403-9615377-8133951 2022-04-30                     Cancelled   \n",
       "4      4  407-1069790-7240320 2022-04-30                       Shipped   \n",
       "\n",
       "  Fulfilment Sales Channel ship-service-level  Category Size Courier Status  \\\n",
       "0   Merchant     Amazon.in           Standard   T-shirt    S     On the Way   \n",
       "1   Merchant     Amazon.in           Standard     Shirt  3XL        Shipped   \n",
       "2     Amazon     Amazon.in          Expedited     Shirt   XL        Shipped   \n",
       "3   Merchant     Amazon.in           Standard   Blazzer    L     On the Way   \n",
       "4     Amazon     Amazon.in          Expedited  Trousers  3XL        Shipped   \n",
       "\n",
       "   ...   ship-state  ship-postal-code    B2B Week  Year  Day  Month  \\\n",
       "0  ...  MAHARASHTRA            400081  False   17  2022   30  April   \n",
       "1  ...    KARNATAKA            560085  False   17  2022   30  April   \n",
       "2  ...  MAHARASHTRA            410210   True   17  2022   30  April   \n",
       "3  ...   TAMIL NADU            605008  False   17  2022   30  April   \n",
       "4  ...   TAMIL NADU            600073  False   17  2022   30  April   \n",
       "\n",
       "   Total Sales   Day_name Total Sales in Million  \n",
       "0          0.0  Wednesday               0.000000  \n",
       "1        406.0  Wednesday               0.000406  \n",
       "2        329.0  Wednesday               0.000329  \n",
       "3          0.0  Wednesday               0.000000  \n",
       "4        574.0  Wednesday               0.000574  \n",
       "\n",
       "[5 rows x 23 columns]"
      ]
     },
     "execution_count": 47,
     "metadata": {},
     "output_type": "execute_result"
    }
   ],
   "source": [
    "df['Total Sales in Million']= df['Total Sales']/ 1000000\n",
    "df.head()"
   ]
  },
  {
   "cell_type": "markdown",
   "id": "49573ddc",
   "metadata": {},
   "source": [
    "### Total Sales Over Time and daily sales trend"
   ]
  },
  {
   "cell_type": "code",
   "execution_count": 48,
   "id": "d89224b0",
   "metadata": {},
   "outputs": [],
   "source": [
    "daily_sales= df.groupby('Date')['Total Sales in Million'].sum().reset_index()"
   ]
  },
  {
   "cell_type": "code",
   "execution_count": 49,
   "id": "ae021c8e",
   "metadata": {},
   "outputs": [
    {
     "data": {
      "image/png": "[encoded data removed]",
      "text/plain": [
       "<Figure size 1000x600 with 2 Axes>"
      ]
     },
     "metadata": {},
     "output_type": "display_data"
    }
   ],
   "source": [
    "plt.figure(figsize=(10, 6))\n",
    "sns.set(style='white')\n",
    "plt.subplot(2,1,1)\n",
    "sns.lineplot(data=df, x='Date', y='Total Sales in Million', ci=None)\n",
    "plt.title('Total Sales Over Time',fontsize=15)\n",
    "plt.xlabel('Date',fontsize=12)\n",
    "plt.ylabel('Total Sales',fontsize=12)\n",
    "plt.subplot(2,1,2)\n",
    "sns.lineplot(data=daily_sales, x='Date', y='Total Sales in Million',color= 'green')\n",
    "plt.title('Daily Sales Trend',fontsize=15)\n",
    "plt.xlabel('Date',fontsize=12)\n",
    "plt.ylabel('Total Sales',fontsize=12)\n",
    "plt.tight_layout()\n",
    "plt.show()"
   ]
  },
  {
   "cell_type": "markdown",
   "id": "2909fbb8",
   "metadata": {},
   "source": [
    "### Total Sales Over  Time:\n",
    "##### Key Findings\n",
    "* From the first graph we can see that, The sales peak significantly around early May and mid-June.There is a general upward trend in sales from April to mid-May and Sales seem to stabilize towards the end of June ,but sales seem low during late april and early june.\n",
    "##### Recommendations\n",
    "* Investigate the reasons behind the sales peaks in early May and mid-June. If they coincide with marketing campaigns or promotions, consider replicating these strategies during other periods.\n",
    "* Plan special promotions, discounts, or marketing campaigns during these peak periods to further boost sales.\n",
    "* Implement strategies to increase sales during off-peak periods (e.g., late April and early June). This could involve targeted marketing, bundling products, or offering limited-time discounts.\n",
    "* Consider using social media and email marketing to reach customers during these slower periods with personalized offers.\n"
   ]
  },
  {
   "cell_type": "markdown",
   "id": "afbb1e02",
   "metadata": {},
   "source": [
    "### Daily Sales Trend:\n",
    "#### Key Findings\n",
    "* From the above second graph we can observe that, a Sharp increase at the beginning of April, likely due to a major event or promotion.High and stable sales from early April to mid-May, with a significant peak in early May.Noticeable decline from mid-May to early June, with lowest sales at the end of June.\n",
    "#### Recommendations\n",
    "* Identify and replicate successful strategies from early April and early May.\n",
    "* Extend successful promotions and introduce follow-up campaigns to maintain post-peak sales.\n",
    "* Introduce targeted promotions, flash sales, and product bundles during slow periods.\n",
    "* Use personalized marketing, loyalty programs, and exclusive offers to drive repeat purchases."
   ]
  },
  {
   "cell_type": "markdown",
   "id": "61425c12-e138-4ff0-a3bd-04d1cbdabd2a",
   "metadata": {},
   "source": [
    "### Monthly Sales trend "
   ]
  },
  {
   "cell_type": "code",
   "execution_count": 50,
   "id": "9c768b3d-8d29-47a4-8965-a327b8df2762",
   "metadata": {},
   "outputs": [],
   "source": [
    "monthly_sales= df.groupby('Month')['Total Sales in Million'].sum().reset_index()"
   ]
  },
  {
   "cell_type": "code",
   "execution_count": 51,
   "id": "643b4bcd-7234-4c18-b1fa-0ced5d24f2df",
   "metadata": {},
   "outputs": [
    {
     "data": {
      "text/html": [
       "<div>\n",
       "<style scoped>\n",
       "    .dataframe tbody tr th:only-of-type {\n",
       "        vertical-align: middle;\n",
       "    }\n",
       "\n",
       "    .dataframe tbody tr th {\n",
       "        vertical-align: top;\n",
       "    }\n",
       "\n",
       "    .dataframe thead th {\n",
       "        text-align: right;\n",
       "    }\n",
       "</style>\n",
       "<table border=\"1\" class=\"dataframe\">\n",
       "  <thead>\n",
       "    <tr style=\"text-align: right;\">\n",
       "      <th></th>\n",
       "      <th>Month</th>\n",
       "      <th>Total Sales in Million</th>\n",
       "    </tr>\n",
       "  </thead>\n",
       "  <tbody>\n",
       "    <tr>\n",
       "      <th>0</th>\n",
       "      <td>April</td>\n",
       "      <td>27.805861</td>\n",
       "    </tr>\n",
       "    <tr>\n",
       "      <th>1</th>\n",
       "      <td>June</td>\n",
       "      <td>22.776386</td>\n",
       "    </tr>\n",
       "    <tr>\n",
       "      <th>2</th>\n",
       "      <td>March</td>\n",
       "      <td>0.098261</td>\n",
       "    </tr>\n",
       "    <tr>\n",
       "      <th>3</th>\n",
       "      <td>May</td>\n",
       "      <td>25.344862</td>\n",
       "    </tr>\n",
       "  </tbody>\n",
       "</table>\n",
       "</div>"
      ],
      "text/plain": [
       "   Month  Total Sales in Million\n",
       "0  April               27.805861\n",
       "1   June               22.776386\n",
       "2  March                0.098261\n",
       "3    May               25.344862"
      ]
     },
     "execution_count": 51,
     "metadata": {},
     "output_type": "execute_result"
    }
   ],
   "source": [
    "monthly_sales"
   ]
  },
  {
   "cell_type": "code",
   "execution_count": 52,
   "id": "3366ba6f-911c-4ede-bfdc-52c2c66417f0",
   "metadata": {},
   "outputs": [
    {
     "data": {
      "text/plain": [
       "Text(0, 0.5, 'Total Sales')"
      ]
     },
     "execution_count": 52,
     "metadata": {},
     "output_type": "execute_result"
    },
    {
     "data": {
      "image/png": "[encoded data removed]",
      "text/plain": [
       "<Figure size 1000x400 with 1 Axes>"
      ]
     },
     "metadata": {},
     "output_type": "display_data"
    }
   ],
   "source": [
    "plt.figure(figsize=(10,4))\n",
    "sns.set(style='white')\n",
    "sns.lineplot(x='Month', y='Total Sales in Million', data=monthly_sales, color='Purple', marker='o')\n",
    "plt.title(\"Monthly Sales Trend\",fontsize=15)\n",
    "plt.xlabel('Month',fontsize=12)\n",
    "plt.ylabel('Total Sales',fontsize=12)"
   ]
  },
  {
   "cell_type": "markdown",
   "id": "b6c365a2",
   "metadata": {},
   "source": [
    "#### Key Findings \n",
    "* April and May show the highest sales and June shows a moderate decline in sales from April and May but remains higher than March.March has the lowest sales, indicating a sharp decline.\n",
    "#### Recommendations\n",
    "* Analyze the factors contributing to high sales in April and May (e.g., promotions, marketing campaigns) and replicate these strategies in other months.\n",
    "* Investigate the reasons behind the significant drop in March and address any identified issues.Introduce targeted promotions or marketing campaigns in March to boost sales.\n",
    "* Consider launching new product lines or special offers in June to attract customers.Extend successful promotions from April and May into June to sustain higher sales."
   ]
  },
  {
   "cell_type": "markdown",
   "id": "0000ad84",
   "metadata": {},
   "source": [
    "### Weekly Sales Trend and Sales by  day of the week"
   ]
  },
  {
   "cell_type": "code",
   "execution_count": 53,
   "id": "846fef34",
   "metadata": {},
   "outputs": [
    {
     "data": {
      "text/html": [
       "<div>\n",
       "<style scoped>\n",
       "    .dataframe tbody tr th:only-of-type {\n",
       "        vertical-align: middle;\n",
       "    }\n",
       "\n",
       "    .dataframe tbody tr th {\n",
       "        vertical-align: top;\n",
       "    }\n",
       "\n",
       "    .dataframe thead th {\n",
       "        text-align: right;\n",
       "    }\n",
       "</style>\n",
       "<table border=\"1\" class=\"dataframe\">\n",
       "  <thead>\n",
       "    <tr style=\"text-align: right;\">\n",
       "      <th></th>\n",
       "      <th>Week</th>\n",
       "      <th>Total Sales in Million</th>\n",
       "    </tr>\n",
       "  </thead>\n",
       "  <tbody>\n",
       "    <tr>\n",
       "      <th>5</th>\n",
       "      <td>18</td>\n",
       "      <td>7.005260</td>\n",
       "    </tr>\n",
       "    <tr>\n",
       "      <th>3</th>\n",
       "      <td>16</td>\n",
       "      <td>6.840369</td>\n",
       "    </tr>\n",
       "    <tr>\n",
       "      <th>2</th>\n",
       "      <td>15</td>\n",
       "      <td>6.604734</td>\n",
       "    </tr>\n",
       "    <tr>\n",
       "      <th>1</th>\n",
       "      <td>14</td>\n",
       "      <td>6.553733</td>\n",
       "    </tr>\n",
       "    <tr>\n",
       "      <th>10</th>\n",
       "      <td>23</td>\n",
       "      <td>6.315305</td>\n",
       "    </tr>\n",
       "    <tr>\n",
       "      <th>4</th>\n",
       "      <td>17</td>\n",
       "      <td>6.141171</td>\n",
       "    </tr>\n",
       "    <tr>\n",
       "      <th>9</th>\n",
       "      <td>22</td>\n",
       "      <td>6.023705</td>\n",
       "    </tr>\n",
       "    <tr>\n",
       "      <th>8</th>\n",
       "      <td>21</td>\n",
       "      <td>5.476505</td>\n",
       "    </tr>\n",
       "    <tr>\n",
       "      <th>11</th>\n",
       "      <td>24</td>\n",
       "      <td>5.385475</td>\n",
       "    </tr>\n",
       "    <tr>\n",
       "      <th>6</th>\n",
       "      <td>19</td>\n",
       "      <td>5.100345</td>\n",
       "    </tr>\n",
       "    <tr>\n",
       "      <th>7</th>\n",
       "      <td>20</td>\n",
       "      <td>5.015972</td>\n",
       "    </tr>\n",
       "    <tr>\n",
       "      <th>12</th>\n",
       "      <td>25</td>\n",
       "      <td>4.877384</td>\n",
       "    </tr>\n",
       "    <tr>\n",
       "      <th>0</th>\n",
       "      <td>13</td>\n",
       "      <td>2.821513</td>\n",
       "    </tr>\n",
       "    <tr>\n",
       "      <th>13</th>\n",
       "      <td>26</td>\n",
       "      <td>1.863899</td>\n",
       "    </tr>\n",
       "  </tbody>\n",
       "</table>\n",
       "</div>"
      ],
      "text/plain": [
       "    Week  Total Sales in Million\n",
       "5     18                7.005260\n",
       "3     16                6.840369\n",
       "2     15                6.604734\n",
       "1     14                6.553733\n",
       "10    23                6.315305\n",
       "4     17                6.141171\n",
       "9     22                6.023705\n",
       "8     21                5.476505\n",
       "11    24                5.385475\n",
       "6     19                5.100345\n",
       "7     20                5.015972\n",
       "12    25                4.877384\n",
       "0     13                2.821513\n",
       "13    26                1.863899"
      ]
     },
     "execution_count": 53,
     "metadata": {},
     "output_type": "execute_result"
    }
   ],
   "source": [
    "weekly_sales=df.groupby('Week') ['Total Sales in Million'].sum().reset_index().sort_values('Total Sales in Million', ascending= False)\n",
    "weekly_sales"
   ]
  },
  {
   "cell_type": "code",
   "execution_count": 54,
   "id": "e1083f89",
   "metadata": {},
   "outputs": [],
   "source": [
    "weekly_sales['Week']= weekly_sales['Week'].astype('str')"
   ]
  },
  {
   "cell_type": "code",
   "execution_count": 55,
   "id": "423abfb1-dce1-412f-83de-003ee56638c1",
   "metadata": {},
   "outputs": [
    {
     "data": {
      "text/html": [
       "<div>\n",
       "<style scoped>\n",
       "    .dataframe tbody tr th:only-of-type {\n",
       "        vertical-align: middle;\n",
       "    }\n",
       "\n",
       "    .dataframe tbody tr th {\n",
       "        vertical-align: top;\n",
       "    }\n",
       "\n",
       "    .dataframe thead th {\n",
       "        text-align: right;\n",
       "    }\n",
       "</style>\n",
       "<table border=\"1\" class=\"dataframe\">\n",
       "  <thead>\n",
       "    <tr style=\"text-align: right;\">\n",
       "      <th></th>\n",
       "      <th>Day_name</th>\n",
       "      <th>Total Sales in Million</th>\n",
       "    </tr>\n",
       "  </thead>\n",
       "  <tbody>\n",
       "    <tr>\n",
       "      <th>5</th>\n",
       "      <td>Tuesday</td>\n",
       "      <td>12.628818</td>\n",
       "    </tr>\n",
       "    <tr>\n",
       "      <th>6</th>\n",
       "      <td>Wednesday</td>\n",
       "      <td>12.170677</td>\n",
       "    </tr>\n",
       "    <tr>\n",
       "      <th>4</th>\n",
       "      <td>Thursday</td>\n",
       "      <td>11.119816</td>\n",
       "    </tr>\n",
       "    <tr>\n",
       "      <th>1</th>\n",
       "      <td>Monday</td>\n",
       "      <td>10.179061</td>\n",
       "    </tr>\n",
       "    <tr>\n",
       "      <th>0</th>\n",
       "      <td>Friday</td>\n",
       "      <td>10.062556</td>\n",
       "    </tr>\n",
       "    <tr>\n",
       "      <th>2</th>\n",
       "      <td>Saturday</td>\n",
       "      <td>9.935046</td>\n",
       "    </tr>\n",
       "    <tr>\n",
       "      <th>3</th>\n",
       "      <td>Sunday</td>\n",
       "      <td>9.929396</td>\n",
       "    </tr>\n",
       "  </tbody>\n",
       "</table>\n",
       "</div>"
      ],
      "text/plain": [
       "    Day_name  Total Sales in Million\n",
       "5    Tuesday               12.628818\n",
       "6  Wednesday               12.170677\n",
       "4   Thursday               11.119816\n",
       "1     Monday               10.179061\n",
       "0     Friday               10.062556\n",
       "2   Saturday                9.935046\n",
       "3     Sunday                9.929396"
      ]
     },
     "execution_count": 55,
     "metadata": {},
     "output_type": "execute_result"
    }
   ],
   "source": [
    "weekday_sales= df.groupby('Day_name')['Total Sales in Million'].sum().reset_index().sort_values('Total Sales in Million', ascending= False)\n",
    "weekday_sales"
   ]
  },
  {
   "cell_type": "code",
   "execution_count": 56,
   "id": "dd191000",
   "metadata": {
    "scrolled": true
   },
   "outputs": [
    {
     "data": {
      "image/png": "[encoded data removed]",
      "text/plain": [
       "<Figure size 1200x400 with 2 Axes>"
      ]
     },
     "metadata": {},
     "output_type": "display_data"
    }
   ],
   "source": [
    "plt.figure(figsize=(12,4))\n",
    "sns.set(style='darkgrid')\n",
    "plt.subplot(1,2,1)\n",
    "sns.barplot(x='Week', y='Total Sales in Million',data=weekly_sales,palette='summer')\n",
    "plt.title('Weekly Sales Trend',fontsize=15)\n",
    "plt.xlabel('Week',fontsize=12)\n",
    "plt.ylabel('Total Sales in Million',fontsize=12)\n",
    "sns.set(style='darkgrid')\n",
    "\n",
    "plt.subplot(1,2,2)\n",
    "sns.barplot(x='Day_name', y='Total Sales in Million',data=weekday_sales,palette='copper')\n",
    "plt.title('Sales by Day of the Week',fontsize=15)\n",
    "plt.xlabel('Day of the Week',fontsize=12)\n",
    "plt.ylabel('Total Sales in Million',fontsize=12)\n",
    "plt.tight_layout()\n",
    "plt.show()"
   ]
  },
  {
   "cell_type": "markdown",
   "id": "6203a34d",
   "metadata": {},
   "source": [
    "### Weekly Sales Trend:\n",
    "##### Key Findings\n",
    "\n",
    "* The highest sales were recorded in Week 18, followed closely by Weeks 16, 15, and 14.\n",
    "* There is a noticeable decline in sales from Week 23 onwards and Week 26 had the lowest sales.\n",
    "##### Recommendations\n",
    "* Analyze the factors contributing to the high sales in Weeks 18 to 15. This could include promotional activities, holidays, or other external factors.Implement similar strategies in weeks with lower sales to boost performance.\n",
    "* Investigate potential causes for the significant decline in sales starting from Week 23. This could involve changes in market conditions, customer behavior, or internal factors like stock availability.Consider implementing targeted marketing campaigns or promotions to revive sales during these weeks."
   ]
  },
  {
   "cell_type": "markdown",
   "id": "c7ce25e5",
   "metadata": {},
   "source": [
    "### Sales by Day of the Week:\n",
    "##### Key Findings\n",
    "\n",
    "* Sales are highest on Tuesdays, followed closely by Wednesdays and Thursdays. Sales on Fridays, Mondays, Saturdays, and Sundays are relatively lower but remain consistent.\n",
    "##### Recommandations\n",
    "* Take strategies to boost sales on Fridays, Saturdays, and Sundays such as weekend-specific discounts, special offers etc.  \n",
    "* Explore partnerships or collaborations that can attract more customers during the weekend. "
   ]
  },
  {
   "cell_type": "markdown",
   "id": "adaa1bcb",
   "metadata": {},
   "source": [
    "## 2. Product Analysis: Analyze the distribution of product categories, sizes, and quantities sold to identify popular products. \n"
   ]
  },
  {
   "cell_type": "markdown",
   "id": "21e52664",
   "metadata": {},
   "source": [
    "###  Analyze product category distribution"
   ]
  },
  {
   "cell_type": "code",
   "execution_count": 57,
   "id": "bdcc7f0b",
   "metadata": {},
   "outputs": [
    {
     "data": {
      "text/plain": [
       "T-shirt     50207\n",
       "Shirt       49786\n",
       "Blazzer     15488\n",
       "Trousers    10605\n",
       "Perfume      1157\n",
       "Wallet        926\n",
       "Socks         439\n",
       "Shoes         164\n",
       "Watch           3\n",
       "Name: Category, dtype: int64"
      ]
     },
     "execution_count": 57,
     "metadata": {},
     "output_type": "execute_result"
    }
   ],
   "source": [
    "category_dist=df['Category'].value_counts()\n",
    "category_dist    "
   ]
  },
  {
   "cell_type": "markdown",
   "id": "cbfae8ba",
   "metadata": {},
   "source": [
    "### Product size distribution"
   ]
  },
  {
   "cell_type": "code",
   "execution_count": 58,
   "id": "6a2330f8",
   "metadata": {},
   "outputs": [
    {
     "data": {
      "text/plain": [
       "M       22343\n",
       "L       21768\n",
       "XL      20516\n",
       "XXL     17780\n",
       "S       16748\n",
       "3XL     14625\n",
       "XS      11032\n",
       "Free     2250\n",
       "6XL       738\n",
       "5XL       550\n",
       "4XL       425\n",
       "Name: Size, dtype: int64"
      ]
     },
     "execution_count": 58,
     "metadata": {},
     "output_type": "execute_result"
    }
   ],
   "source": [
    "size_counts = df['Size'].value_counts()\n",
    "size_counts"
   ]
  },
  {
   "cell_type": "markdown",
   "id": "01df036a",
   "metadata": {},
   "source": [
    "### Popular product by category and size"
   ]
  },
  {
   "cell_type": "code",
   "execution_count": 59,
   "id": "c00f9f20",
   "metadata": {},
   "outputs": [
    {
     "data": {
      "text/html": [
       "<div>\n",
       "<style scoped>\n",
       "    .dataframe tbody tr th:only-of-type {\n",
       "        vertical-align: middle;\n",
       "    }\n",
       "\n",
       "    .dataframe tbody tr th {\n",
       "        vertical-align: top;\n",
       "    }\n",
       "\n",
       "    .dataframe thead th {\n",
       "        text-align: right;\n",
       "    }\n",
       "</style>\n",
       "<table border=\"1\" class=\"dataframe\">\n",
       "  <thead>\n",
       "    <tr style=\"text-align: right;\">\n",
       "      <th></th>\n",
       "      <th>Category</th>\n",
       "      <th>Size</th>\n",
       "      <th>Quantity</th>\n",
       "    </tr>\n",
       "  </thead>\n",
       "  <tbody>\n",
       "    <tr>\n",
       "      <th>31</th>\n",
       "      <td>T-shirt</td>\n",
       "      <td>M</td>\n",
       "      <td>8346</td>\n",
       "    </tr>\n",
       "    <tr>\n",
       "      <th>12</th>\n",
       "      <td>Shirt</td>\n",
       "      <td>L</td>\n",
       "      <td>8031</td>\n",
       "    </tr>\n",
       "    <tr>\n",
       "      <th>15</th>\n",
       "      <td>Shirt</td>\n",
       "      <td>XL</td>\n",
       "      <td>7825</td>\n",
       "    </tr>\n",
       "    <tr>\n",
       "      <th>13</th>\n",
       "      <td>Shirt</td>\n",
       "      <td>M</td>\n",
       "      <td>7699</td>\n",
       "    </tr>\n",
       "    <tr>\n",
       "      <th>30</th>\n",
       "      <td>T-shirt</td>\n",
       "      <td>L</td>\n",
       "      <td>7385</td>\n",
       "    </tr>\n",
       "  </tbody>\n",
       "</table>\n",
       "</div>"
      ],
      "text/plain": [
       "   Category Size  Quantity\n",
       "31  T-shirt    M      8346\n",
       "12    Shirt    L      8031\n",
       "15    Shirt   XL      7825\n",
       "13    Shirt    M      7699\n",
       "30  T-shirt    L      7385"
      ]
     },
     "execution_count": 59,
     "metadata": {},
     "output_type": "execute_result"
    }
   ],
   "source": [
    "quantity_sold= df.groupby(['Category','Size'])['Quantity'].sum().reset_index()\n",
    "popular_product=quantity_sold.nlargest(5, 'Quantity')\n",
    "popular_product"
   ]
  },
  {
   "cell_type": "code",
   "execution_count": 60,
   "id": "e9728e1b",
   "metadata": {},
   "outputs": [
    {
     "data": {
      "image/png": "[encoded data removed]",
      "text/plain": [
       "<Figure size 1000x700 with 3 Axes>"
      ]
     },
     "metadata": {},
     "output_type": "display_data"
    }
   ],
   "source": [
    "plt.figure(figsize=(10,7))\n",
    "sns.set(style='white')\n",
    "plt.subplot(2,2,1)\n",
    "sns.histplot(x='Category',data=df,color='orange')\n",
    "plt.title('Product Category Distribution',fontsize=14)\n",
    "plt.xlabel(\"Category\",fontsize=12)\n",
    "plt.ylabel(\"Count\",fontsize=12)\n",
    "plt.xticks(rotation=45,ha='right')\n",
    "\n",
    "plt.subplot(2,2,2)\n",
    "sns.countplot(x='Size',data=df,palette='Purples_d')\n",
    "plt.title('Size Distribution', fontsize=14)\n",
    "plt.xlabel(\"Size\", fontsize=12)\n",
    "plt.ylabel(\"Count\", fontsize=12)\n",
    "plt.xticks(rotation=45, ha='right')\n",
    "\n",
    "plt.subplot(2,2,3)\n",
    "sns.barplot(x='Category',y='Quantity',data=popular_product,hue='Size',palette='RdPu',saturation=0.9)\n",
    "plt.title('Popular Products by Category, Size and Quantity', fontsize=14)\n",
    "plt.xlabel(\"Category\", fontsize=12)\n",
    "plt.ylabel(\"Quantity\", fontsize=12)\n",
    "plt.xticks(rotation=45, ha='right')\n",
    "plt.tight_layout()\n",
    "plt.show()"
   ]
  },
  {
   "cell_type": "markdown",
   "id": "01e75392",
   "metadata": {},
   "source": [
    "#### Key Findings"
   ]
  },
  {
   "cell_type": "markdown",
   "id": "3b67ac19",
   "metadata": {},
   "source": [
    "##### Product Category Distribution\n",
    "* T-shirts and Shirts are the most popular categories compare to other categories.\n",
    "* Socks, Shoes, Socks, Wallets, and Watches are the least popular categories.\n",
    "##### Size Distribution\n",
    "* Sizes L (Large) and M (Medium) are the most popular, followed by XL (Extra Large).\n",
    "* Sizes such as 4XL, Free Size, and 5XL have very low counts, indicating minimal demand.\n",
    "##### Popular Products by Category ,Size and Quantity\n",
    "* T-shirts are most popular in size M, followed by L and XL.\n",
    "* Shirts have a similar pattern with sizes M, L, and XL being the most popular."
   ]
  },
  {
   "cell_type": "markdown",
   "id": "076f0a51",
   "metadata": {},
   "source": [
    "#### Insights  on product preferences\n",
    "* T-shirts and shirts dominate the product preferences.\n",
    "* Focus on stocking sizes L, XL, and M to meet the majority of customer demand.\n",
    "* Consider targeted marketing for less popular categories and sizes."
   ]
  },
  {
   "cell_type": "markdown",
   "id": "1e440079",
   "metadata": {},
   "source": [
    "## 3. Fulfillment Analysis: Investigate the fulfillment methods used and their effectiveness in delivering orders."
   ]
  },
  {
   "cell_type": "markdown",
   "id": "96300731-8aae-475f-a86a-98ea7f29d39d",
   "metadata": {},
   "source": [
    " #### Distribution of fulfillment"
   ]
  },
  {
   "cell_type": "code",
   "execution_count": 61,
   "id": "8b214675-bb36-4853-899b-c0422784d1f4",
   "metadata": {},
   "outputs": [
    {
     "data": {
      "text/html": [
       "<div>\n",
       "<style scoped>\n",
       "    .dataframe tbody tr th:only-of-type {\n",
       "        vertical-align: middle;\n",
       "    }\n",
       "\n",
       "    .dataframe tbody tr th {\n",
       "        vertical-align: top;\n",
       "    }\n",
       "\n",
       "    .dataframe thead th {\n",
       "        text-align: right;\n",
       "    }\n",
       "</style>\n",
       "<table border=\"1\" class=\"dataframe\">\n",
       "  <thead>\n",
       "    <tr style=\"text-align: right;\">\n",
       "      <th></th>\n",
       "      <th>index</th>\n",
       "      <th>Fulfilment</th>\n",
       "    </tr>\n",
       "  </thead>\n",
       "  <tbody>\n",
       "    <tr>\n",
       "      <th>0</th>\n",
       "      <td>Amazon</td>\n",
       "      <td>89575</td>\n",
       "    </tr>\n",
       "    <tr>\n",
       "      <th>1</th>\n",
       "      <td>Merchant</td>\n",
       "      <td>39200</td>\n",
       "    </tr>\n",
       "  </tbody>\n",
       "</table>\n",
       "</div>"
      ],
      "text/plain": [
       "      index  Fulfilment\n",
       "0    Amazon       89575\n",
       "1  Merchant       39200"
      ]
     },
     "execution_count": 61,
     "metadata": {},
     "output_type": "execute_result"
    }
   ],
   "source": [
    "fulfillment_dist = df['Fulfilment'].value_counts().reset_index()\n",
    "fulfillment_dist"
   ]
  },
  {
   "cell_type": "markdown",
   "id": "43f74b7b-f58f-463e-8dad-ad7d3e940a66",
   "metadata": {},
   "source": [
    "#### Success Rate Analysis "
   ]
  },
  {
   "cell_type": "code",
   "execution_count": 62,
   "id": "1151b783",
   "metadata": {},
   "outputs": [],
   "source": [
    "#Calculate success rate for each fulfillment method\n",
    "success_rate =df[(df['Status'] == 'Shipped - Delivered to Buyer') | (df['Status']=='Shipped')].groupby('Fulfilment').size() / df.groupby('Fulfilment').size()*100\n",
    "Sr=success_rate.reset_index(name='Success rate')"
   ]
  },
  {
   "cell_type": "code",
   "execution_count": 63,
   "id": "8146c955",
   "metadata": {},
   "outputs": [
    {
     "data": {
      "image/png": "[encoded data removed]",
      "text/plain": [
       "<Figure size 1200x300 with 2 Axes>"
      ]
     },
     "metadata": {},
     "output_type": "display_data"
    }
   ],
   "source": [
    "plt.figure(figsize=(12,3))\n",
    "sns.set(style='darkgrid')\n",
    "plt.subplot(1,2,1)\n",
    "sns.countplot(data=df, x='Fulfilment',palette='RdYlGn',saturation=0.9)\n",
    "plt.title('Distribution of Fulfillment Methods',fontsize=15)\n",
    "plt.xlabel('Fulfillment Method',fontsize=12)\n",
    "plt.ylabel('Count',fontsize=12)\n",
    "plt.subplot(1,2,2)\n",
    "sns.barplot(x='Fulfilment',y='Success rate',data=Sr,palette='PuRd')\n",
    "plt.title('Success Rate of Fulfillment Methods',fontsize=15)\n",
    "plt.xlabel('Fulfillment Method',fontsize=12)\n",
    "plt.ylabel('Success Rate(%)',fontsize=12)\n",
    "plt.show()"
   ]
  },
  {
   "cell_type": "markdown",
   "id": "3758c171",
   "metadata": {},
   "source": [
    "### Key Findings\n",
    "### Distribution of Fulfillment Methods:\n",
    "* Amazon Fulfillment: Dominates with around 80,000 orders.\n",
    "* Merchant Fulfillment: Significantly fewer with around 40,000 orders.\n",
    "### Success Rate of Fulfillment Methods:\n",
    "* Amazon Fulfillment: Approximately 80% success rate.\n",
    "* Merchant Fulfillment: Approximately 70% success rate."
   ]
  },
  {
   "cell_type": "markdown",
   "id": "deea87b9",
   "metadata": {},
   "source": [
    "### Insights for Improving Customer Satisfaction\n",
    "* Use Amazon fulfillment for key products to ensure quick delivery.\n",
    "* Provide special customer support for issues with merchant-fulfilled orders to resolve problems quickly.\n",
    "* Conduct regular performance reviews of both Amazon and merchant fulfillment methods. Identify trends and fix any issues early."
   ]
  },
  {
   "cell_type": "markdown",
   "id": "f8a117a7",
   "metadata": {},
   "source": [
    "### Recommendations:\n",
    "##### Inventory Management:\n",
    "* Focus on allocating more inventory to Amazon fulfillment centers for better order fulfillment.\n",
    "* Keep enough stock at Amazon centers to meet high demand and avoid stockouts. Use data to forecast and adjust inventory.\n",
    "* Work with merchants to improve their fulfillment processes, ensuring they adhere to Amazon's fulfillment standards. Provide training and resources to improve their efficiency and success rates.\n",
    "##### Customer Service:\n",
    "* Inform customers about the fulfillment method and delivery times at purchase. Offer real-time order updates.\n",
    "* Simplify the return and exchange process, especially for orders fulfilled by merchants, to enhance customer trust and satisfaction.\n",
    "* Implement a system for customers to rate their fulfillment experience. Use feedback to improve and reward top fulfillment partners."
   ]
  },
  {
   "cell_type": "markdown",
   "id": "a1ab4e72",
   "metadata": {},
   "source": [
    "## 4. Customer Segmentation: Segment customers based on their buying behavior, location, and other relevant factors."
   ]
  },
  {
   "cell_type": "code",
   "execution_count": 64,
   "id": "74a15c9e",
   "metadata": {},
   "outputs": [],
   "source": [
    "##  Feature Engineering\n",
    "# Calculate total amount spent by each customer"
   ]
  },
  {
   "cell_type": "code",
   "execution_count": 65,
   "id": "f2d96ecf",
   "metadata": {},
   "outputs": [],
   "source": [
    "customer_df = df.groupby('Order ID').agg({\n",
    "    'Amount': 'sum',\n",
    "    'Quantity': 'sum',\n",
    "    'ship-city': 'first',\n",
    "    'ship-state': 'first',\n",
    "    'ship-postal-code': 'first',\n",
    "    'B2B': 'first'\n",
    "}).reset_index()"
   ]
  },
  {
   "cell_type": "code",
   "execution_count": 66,
   "id": "a601068a",
   "metadata": {},
   "outputs": [],
   "source": [
    "# Rename columns for clarity\n",
    "customer_df.rename(columns={\n",
    "    'Amount': 'Total Amount Spent',\n",
    "    'Quantity': 'Total Quantity Purchased'\n",
    "}, inplace=True)"
   ]
  },
  {
   "cell_type": "code",
   "execution_count": 67,
   "id": "c2ff5370",
   "metadata": {},
   "outputs": [
    {
     "name": "stdout",
     "output_type": "stream",
     "text": [
      "              Order ID  Total Amount Spent  Total Quantity Purchased  \\\n",
      "0  171-0000547-8192359               301.0                         1   \n",
      "1  171-0000902-4490745               544.0                         1   \n",
      "2  171-0001409-6228339               422.0                         1   \n",
      "3  171-0003082-5110755               563.0                         1   \n",
      "4  171-0003738-2052324               379.0                         1   \n",
      "\n",
      "          ship-city     ship-state  ship-postal-code    B2B  \n",
      "0  PIMPRI CHINCHWAD    MAHARASHTRA            412101  False  \n",
      "1            Howrah    WEST BENGAL            711104  False  \n",
      "2             KODAD      TELANGANA            508206  False  \n",
      "3     GREATER NOIDA  UTTAR PRADESH            201306  False  \n",
      "4         FIROZABAD  UTTAR PRADESH            283203  False  \n"
     ]
    }
   ],
   "source": [
    "# Print the new dataframe\n",
    "print(customer_df.head())"
   ]
  },
  {
   "cell_type": "code",
   "execution_count": 68,
   "id": "3128674b",
   "metadata": {},
   "outputs": [],
   "source": [
    "# Segmentation using Clustering"
   ]
  },
  {
   "cell_type": "code",
   "execution_count": 69,
   "id": "83c85f38",
   "metadata": {},
   "outputs": [],
   "source": [
    "# Select features for clustering\n",
    "features = customer_df[['Total Amount Spent', 'Total Quantity Purchased']]\n"
   ]
  },
  {
   "cell_type": "code",
   "execution_count": 70,
   "id": "3afae1be",
   "metadata": {},
   "outputs": [],
   "source": [
    "# Standardize the features\n",
    "scaler = StandardScaler()\n",
    "scaled_features = scaler.fit_transform(features)\n"
   ]
  },
  {
   "cell_type": "code",
   "execution_count": 71,
   "id": "0fdb5baf",
   "metadata": {},
   "outputs": [],
   "source": [
    "# Determine the optimal number of clusters using the elbow method\n",
    "inertia = []\n",
    "for n in range(1, 11):\n",
    "    kmeans = KMeans(n_clusters=n, random_state=42)\n",
    "    kmeans.fit(scaled_features)\n",
    "    inertia.append(kmeans.inertia_)\n"
   ]
  },
  {
   "cell_type": "code",
   "execution_count": 72,
   "id": "23af319a",
   "metadata": {},
   "outputs": [
    {
     "data": {
      "image/png": "[encoded data removed]",
      "text/plain": [
       "<Figure size 640x480 with 1 Axes>"
      ]
     },
     "metadata": {},
     "output_type": "display_data"
    }
   ],
   "source": [
    "# Plot the elbow curve\n",
    "sns.set(style='white')\n",
    "plt.plot(range(1, 11), inertia, marker='o',color='brown')\n",
    "plt.xlabel('Number of clusters')\n",
    "plt.ylabel('Inertia')\n",
    "plt.title('Elbow Method')\n",
    "plt.show()\n"
   ]
  },
  {
   "cell_type": "markdown",
   "id": "3104258c",
   "metadata": {},
   "source": [
    "* The elbow in the plot is around 3 clusters. This suggests that using 3 clusters is a reasonable choice for segmenting the customers."
   ]
  },
  {
   "cell_type": "code",
   "execution_count": 73,
   "id": "a5362925",
   "metadata": {},
   "outputs": [],
   "source": [
    "# Choose the optimal number of clusters \n",
    "optimal_clusters = 3"
   ]
  },
  {
   "cell_type": "code",
   "execution_count": 74,
   "id": "9cf85202",
   "metadata": {},
   "outputs": [],
   "source": [
    "# Fit K-Means with the optimal number of clusters\n",
    "kmeans = KMeans(n_clusters=optimal_clusters, random_state=42)\n",
    "customer_df['Cluster'] = kmeans.fit_predict(scaled_features)"
   ]
  },
  {
   "cell_type": "code",
   "execution_count": 75,
   "id": "8ac4e8d3",
   "metadata": {},
   "outputs": [
    {
     "name": "stdout",
     "output_type": "stream",
     "text": [
      "              Order ID  Total Amount Spent  Total Quantity Purchased  \\\n",
      "0  171-0000547-8192359               301.0                         1   \n",
      "1  171-0000902-4490745               544.0                         1   \n",
      "2  171-0001409-6228339               422.0                         1   \n",
      "3  171-0003082-5110755               563.0                         1   \n",
      "4  171-0003738-2052324               379.0                         1   \n",
      "\n",
      "          ship-city     ship-state  ship-postal-code    B2B  Cluster  \n",
      "0  PIMPRI CHINCHWAD    MAHARASHTRA            412101  False        0  \n",
      "1            Howrah    WEST BENGAL            711104  False        0  \n",
      "2             KODAD      TELANGANA            508206  False        0  \n",
      "3     GREATER NOIDA  UTTAR PRADESH            201306  False        0  \n",
      "4         FIROZABAD  UTTAR PRADESH            283203  False        0  \n"
     ]
    }
   ],
   "source": [
    "print(customer_df.head())"
   ]
  },
  {
   "cell_type": "code",
   "execution_count": 76,
   "id": "80b4e6ab",
   "metadata": {},
   "outputs": [],
   "source": [
    "# Analyze and Interpret the Segments\n",
    "#Analyze the characteristics of each cluster to understand the segments."
   ]
  },
  {
   "cell_type": "code",
   "execution_count": 77,
   "id": "5d33355f",
   "metadata": {},
   "outputs": [],
   "source": [
    "# Analyze the clusters\n",
    "cluster_analysis = customer_df.groupby('Cluster').agg({\n",
    "    'Total Amount Spent': ['mean', 'sum'],\n",
    "    'Total Quantity Purchased': ['mean', 'sum'],\n",
    "    'ship-city': 'count',\n",
    "    'ship-state': 'first',\n",
    "    'ship-postal-code': 'first',\n",
    "    'B2B': 'first'\n",
    "}).reset_index()"
   ]
  },
  {
   "cell_type": "code",
   "execution_count": 78,
   "id": "676852cf",
   "metadata": {},
   "outputs": [],
   "source": [
    "# Rename columns for clarity\n",
    "cluster_analysis.columns = [ 'Avg Amount Spent', 'Total Amount Spent', \n",
    "                            'Avg Quantity Purchased', \n",
    "                            'Total Quantity Purchased', 'Customer Count', \n",
    "                            'Representative City',\n",
    "                            'Representative State', \n",
    "                            'Representative Postal Code', 'B2B']\n"
   ]
  },
  {
   "cell_type": "code",
   "execution_count": 79,
   "id": "abb06aca",
   "metadata": {},
   "outputs": [
    {
     "data": {
      "text/html": [
       "<div>\n",
       "<style scoped>\n",
       "    .dataframe tbody tr th:only-of-type {\n",
       "        vertical-align: middle;\n",
       "    }\n",
       "\n",
       "    .dataframe tbody tr th {\n",
       "        vertical-align: top;\n",
       "    }\n",
       "\n",
       "    .dataframe thead th {\n",
       "        text-align: right;\n",
       "    }\n",
       "</style>\n",
       "<table border=\"1\" class=\"dataframe\">\n",
       "  <thead>\n",
       "    <tr style=\"text-align: right;\">\n",
       "      <th></th>\n",
       "      <th>Avg Amount Spent</th>\n",
       "      <th>Total Amount Spent</th>\n",
       "      <th>Avg Quantity Purchased</th>\n",
       "      <th>Total Quantity Purchased</th>\n",
       "      <th>Customer Count</th>\n",
       "      <th>Representative City</th>\n",
       "      <th>Representative State</th>\n",
       "      <th>Representative Postal Code</th>\n",
       "      <th>B2B</th>\n",
       "    </tr>\n",
       "  </thead>\n",
       "  <tbody>\n",
       "    <tr>\n",
       "      <th>0</th>\n",
       "      <td>0</td>\n",
       "      <td>649.00000</td>\n",
       "      <td>66379720.00</td>\n",
       "      <td>1.006130</td>\n",
       "      <td>102907</td>\n",
       "      <td>102280</td>\n",
       "      <td>MAHARASHTRA</td>\n",
       "      <td>412101</td>\n",
       "      <td>False</td>\n",
       "    </tr>\n",
       "    <tr>\n",
       "      <th>1</th>\n",
       "      <td>1</td>\n",
       "      <td>645.36512</td>\n",
       "      <td>7697269.79</td>\n",
       "      <td>0.000000</td>\n",
       "      <td>0</td>\n",
       "      <td>11927</td>\n",
       "      <td>GUJARAT</td>\n",
       "      <td>382424</td>\n",
       "      <td>False</td>\n",
       "    </tr>\n",
       "    <tr>\n",
       "      <th>2</th>\n",
       "      <td>2</td>\n",
       "      <td>1520.23033</td>\n",
       "      <td>9112260.60</td>\n",
       "      <td>2.262429</td>\n",
       "      <td>13561</td>\n",
       "      <td>5994</td>\n",
       "      <td>GUJARAT</td>\n",
       "      <td>380015</td>\n",
       "      <td>False</td>\n",
       "    </tr>\n",
       "  </tbody>\n",
       "</table>\n",
       "</div>"
      ],
      "text/plain": [
       "   Avg Amount Spent  Total Amount Spent  Avg Quantity Purchased  \\\n",
       "0                 0           649.00000             66379720.00   \n",
       "1                 1           645.36512              7697269.79   \n",
       "2                 2          1520.23033              9112260.60   \n",
       "\n",
       "   Total Quantity Purchased  Customer Count  Representative City  \\\n",
       "0                  1.006130          102907               102280   \n",
       "1                  0.000000               0                11927   \n",
       "2                  2.262429           13561                 5994   \n",
       "\n",
       "  Representative State  Representative Postal Code    B2B  \n",
       "0          MAHARASHTRA                      412101  False  \n",
       "1              GUJARAT                      382424  False  \n",
       "2              GUJARAT                      380015  False  "
      ]
     },
     "execution_count": 79,
     "metadata": {},
     "output_type": "execute_result"
    }
   ],
   "source": [
    "# Print the cluster analysis\n",
    "cluster_analysis"
   ]
  },
  {
   "cell_type": "code",
   "execution_count": 80,
   "id": "c6d8f196",
   "metadata": {},
   "outputs": [
    {
     "data": {
      "image/png": "[encoded data removed]",
      "text/plain": [
       "<Figure size 1000x400 with 1 Axes>"
      ]
     },
     "metadata": {},
     "output_type": "display_data"
    }
   ],
   "source": [
    "plt.figure(figsize=(10,4))\n",
    "sns.set(style='white')\n",
    "sns.scatterplot(x='Total Amount Spent', y='Total Quantity Purchased', hue='Cluster',\n",
    "                data=customer_df, palette='viridis')\n",
    "plt.title('Customer Segments')\n",
    "plt.xlabel('Total Amount Spent')\n",
    "plt.ylabel('Total Quantity Purchased')\n",
    "plt.legend(loc='lower right')\n",
    "plt.show()"
   ]
  },
  {
   "cell_type": "markdown",
   "id": "ad1c9099",
   "metadata": {},
   "source": [
    "### Key Findings:\n",
    "##### Cluster Distribution:\n",
    "* Cluster 0 (Purple): Low spenders, infrequent buyers.\n",
    "* Cluster 1 (Green): Moderate spenders, low frequency.\n",
    "* Cluster 2 (Yellow): High spenders, frequent buyers with diverse spending patterns.\n",
    "##### customers Behavior:\n",
    "* Cluster 0:Spend less and buy fewer items. May need more incentives to spend more.\n",
    "* Cluster 1: Also spend less and buy fewer items, but with slightly different buying habits than Cluster 0.\n",
    "* Cluster 2: Most diverse spending, including highest spenders and large quantity buyers. They are likely the most valuable customers.\n",
    " ### Insights  \n",
    "##### High Spenders and Frequent Buyers (Cluster 2):\n",
    "\n",
    "* This group spends a wide range of amounts.\n",
    "* They are key to revenue, ideal for loyalty programs and special promotions.\n",
    "##### Moderate and Low Spenders (Clusters 0 and 1):\n",
    "\n",
    "* These groups spend and buy less.\n",
    "* They might be sensitive to price and may respond well to discounts and promotional offers.\n",
    "* Use personalized marketing, targeted discounts, and incentives to boost their spending."
   ]
  },
  {
   "cell_type": "markdown",
   "id": "5f7aea30",
   "metadata": {},
   "source": [
    "## 5. Geographical Analysis: Explore the geographical distribution of sales, focusing on states and cities.\n"
   ]
  },
  {
   "cell_type": "code",
   "execution_count": 82,
   "id": "288be47e",
   "metadata": {},
   "outputs": [
    {
     "data": {
      "text/html": [
       "<div>\n",
       "<style scoped>\n",
       "    .dataframe tbody tr th:only-of-type {\n",
       "        vertical-align: middle;\n",
       "    }\n",
       "\n",
       "    .dataframe tbody tr th {\n",
       "        vertical-align: top;\n",
       "    }\n",
       "\n",
       "    .dataframe thead th {\n",
       "        text-align: right;\n",
       "    }\n",
       "</style>\n",
       "<table border=\"1\" class=\"dataframe\">\n",
       "  <thead>\n",
       "    <tr style=\"text-align: right;\">\n",
       "      <th></th>\n",
       "      <th>ship-state</th>\n",
       "      <th>Total Sales in Million</th>\n",
       "    </tr>\n",
       "  </thead>\n",
       "  <tbody>\n",
       "    <tr>\n",
       "      <th>19</th>\n",
       "      <td>MAHARASHTRA</td>\n",
       "      <td>12.921668</td>\n",
       "    </tr>\n",
       "    <tr>\n",
       "      <th>14</th>\n",
       "      <td>KARNATAKA</td>\n",
       "      <td>10.208746</td>\n",
       "    </tr>\n",
       "    <tr>\n",
       "      <th>29</th>\n",
       "      <td>TELANGANA</td>\n",
       "      <td>6.699150</td>\n",
       "    </tr>\n",
       "    <tr>\n",
       "      <th>31</th>\n",
       "      <td>UTTAR PRADESH</td>\n",
       "      <td>6.553145</td>\n",
       "    </tr>\n",
       "    <tr>\n",
       "      <th>28</th>\n",
       "      <td>TAMIL NADU</td>\n",
       "      <td>6.505236</td>\n",
       "    </tr>\n",
       "  </tbody>\n",
       "</table>\n",
       "</div>"
      ],
      "text/plain": [
       "       ship-state  Total Sales in Million\n",
       "19    MAHARASHTRA               12.921668\n",
       "14      KARNATAKA               10.208746\n",
       "29      TELANGANA                6.699150\n",
       "31  UTTAR PRADESH                6.553145\n",
       "28     TAMIL NADU                6.505236"
      ]
     },
     "execution_count": 82,
     "metadata": {},
     "output_type": "execute_result"
    }
   ],
   "source": [
    "top_State_sales= df.groupby('ship-state')['Total Sales in Million'].sum().reset_index().sort_values(by='Total Sales in Million',ascending=False).head(5)\n",
    "top_State_sales"
   ]
  },
  {
   "cell_type": "code",
   "execution_count": 91,
   "id": "4c063948",
   "metadata": {},
   "outputs": [
    {
     "data": {
      "text/html": [
       "<div>\n",
       "<style scoped>\n",
       "    .dataframe tbody tr th:only-of-type {\n",
       "        vertical-align: middle;\n",
       "    }\n",
       "\n",
       "    .dataframe tbody tr th {\n",
       "        vertical-align: top;\n",
       "    }\n",
       "\n",
       "    .dataframe thead th {\n",
       "        text-align: right;\n",
       "    }\n",
       "</style>\n",
       "<table border=\"1\" class=\"dataframe\">\n",
       "  <thead>\n",
       "    <tr style=\"text-align: right;\">\n",
       "      <th></th>\n",
       "      <th>ship-state</th>\n",
       "      <th>Total Sales in Million</th>\n",
       "    </tr>\n",
       "  </thead>\n",
       "  <tbody>\n",
       "    <tr>\n",
       "      <th>30</th>\n",
       "      <td>TRIPURA</td>\n",
       "      <td>0.086799</td>\n",
       "    </tr>\n",
       "    <tr>\n",
       "      <th>22</th>\n",
       "      <td>MIZORAM</td>\n",
       "      <td>0.039605</td>\n",
       "    </tr>\n",
       "    <tr>\n",
       "      <th>6</th>\n",
       "      <td>DADRA AND NAGAR</td>\n",
       "      <td>0.039276</td>\n",
       "    </tr>\n",
       "    <tr>\n",
       "      <th>16</th>\n",
       "      <td>LADAKH</td>\n",
       "      <td>0.036737</td>\n",
       "    </tr>\n",
       "    <tr>\n",
       "      <th>17</th>\n",
       "      <td>LAKSHADWEEP</td>\n",
       "      <td>0.002441</td>\n",
       "    </tr>\n",
       "  </tbody>\n",
       "</table>\n",
       "</div>"
      ],
      "text/plain": [
       "         ship-state  Total Sales in Million\n",
       "30          TRIPURA                0.086799\n",
       "22          MIZORAM                0.039605\n",
       "6   DADRA AND NAGAR                0.039276\n",
       "16           LADAKH                0.036737\n",
       "17      LAKSHADWEEP                0.002441"
      ]
     },
     "execution_count": 91,
     "metadata": {},
     "output_type": "execute_result"
    }
   ],
   "source": [
    "bottom_sales_state= df.groupby('ship-state')['Total Sales in Million'].sum().reset_index().sort_values(by='Total Sales in Million',ascending=False).tail(5)\n",
    "bottom_sales_state"
   ]
  },
  {
   "cell_type": "code",
   "execution_count": 85,
   "id": "674d284c",
   "metadata": {},
   "outputs": [
    {
     "data": {
      "image/png": "[encoded data removed]",
      "text/plain": [
       "<Figure size 1300x400 with 2 Axes>"
      ]
     },
     "metadata": {},
     "output_type": "display_data"
    }
   ],
   "source": [
    "plt.figure(figsize=(13,4))\n",
    "sns.set(style='darkgrid')\n",
    "plt.subplot(1,2,1)\n",
    "sns.barplot(x='ship-state',y='Total Sales in Million',data=top_State_sales,palette='flare',saturation=0.9)\n",
    "plt.title('Top 5 States by Sales',fontsize=15)\n",
    "plt.ylabel('Total Sales in Million',fontsize=12)\n",
    "plt.xlabel('State',fontsize=12)\n",
    "plt.subplot(1,2,2)\n",
    "sns.barplot(x='ship-state',y='Total Sales in Million',data=bottom_sales_state,palette='gist_earth',saturation=0.8)\n",
    "plt.title('Bottom 5 States by Sales',fontsize=15)\n",
    "plt.ylabel('Total Sales in Million',fontsize=12)\n",
    "plt.xlabel('State',fontsize=12)\n",
    "plt.tight_layout()"
   ]
  },
  {
   "cell_type": "markdown",
   "id": "26a6a9eb",
   "metadata": {},
   "source": [
    "### Key Findings:\n",
    "##### Top 5 States by Sales:\n",
    "* Maharashtra leads with the highest total sales, exceeding 12 million.\n",
    "* Karnataka follows, with sales around 10 million.\n",
    "* Telangana, Uttar Pradesh, and Tamil Nadu each have significant sales figures, ranging between approximately 7 to 9 million.\n",
    "##### Bottom 5 States by Sales:\n",
    "* Lakshadweep has the lowest sales, close to negligible.\n",
    "* Ladakh, Dadra and Nagar Haveli, Mizoram, and Tripura have relatively low sales, all below 0.1 million."
   ]
  },
  {
   "cell_type": "markdown",
   "id": "56b11f46",
   "metadata": {},
   "source": [
    "### Insights:\n",
    "* Maharashtra and Karnataka are crucial due to higher population density and purchasing power.\n",
    "* Focus on strategies to deepen market penetration in these high-performing regions.\n",
    "* Low sales in Lakshadweep and Ladakh could indicate either a lack of market presence or lower market potential.\n",
    "* Assess whether to invest in market development or focus resources elsewhere.\n",
    "* Implement targeted sales approaches for high-performing regions.\n",
    "* Develop customized plans for improving market presence in low-performing states."
   ]
  },
  {
   "cell_type": "code",
   "execution_count": 86,
   "id": "568e1f48",
   "metadata": {},
   "outputs": [],
   "source": [
    "top_sales_cities= df.groupby('ship-city')['Total Sales in Million'].sum().reset_index().sort_values(by='Total Sales in Million',ascending=False).head(10)"
   ]
  },
  {
   "cell_type": "code",
   "execution_count": 87,
   "id": "06bf40d9",
   "metadata": {},
   "outputs": [
    {
     "data": {
      "text/html": [
       "<div>\n",
       "<style scoped>\n",
       "    .dataframe tbody tr th:only-of-type {\n",
       "        vertical-align: middle;\n",
       "    }\n",
       "\n",
       "    .dataframe tbody tr th {\n",
       "        vertical-align: top;\n",
       "    }\n",
       "\n",
       "    .dataframe thead th {\n",
       "        text-align: right;\n",
       "    }\n",
       "</style>\n",
       "<table border=\"1\" class=\"dataframe\">\n",
       "  <thead>\n",
       "    <tr style=\"text-align: right;\">\n",
       "      <th></th>\n",
       "      <th>ship-city</th>\n",
       "      <th>Total Sales in Million</th>\n",
       "    </tr>\n",
       "  </thead>\n",
       "  <tbody>\n",
       "    <tr>\n",
       "      <th>775</th>\n",
       "      <td>BENGALURU</td>\n",
       "      <td>6.698265</td>\n",
       "    </tr>\n",
       "    <tr>\n",
       "      <th>2904</th>\n",
       "      <td>HYDERABAD</td>\n",
       "      <td>4.793958</td>\n",
       "    </tr>\n",
       "    <tr>\n",
       "      <th>4793</th>\n",
       "      <td>MUMBAI</td>\n",
       "      <td>3.585314</td>\n",
       "    </tr>\n",
       "    <tr>\n",
       "      <th>5391</th>\n",
       "      <td>NEW DELHI</td>\n",
       "      <td>3.490346</td>\n",
       "    </tr>\n",
       "    <tr>\n",
       "      <th>1464</th>\n",
       "      <td>CHENNAI</td>\n",
       "      <td>2.994311</td>\n",
       "    </tr>\n",
       "    <tr>\n",
       "      <th>6156</th>\n",
       "      <td>PUNE</td>\n",
       "      <td>2.270924</td>\n",
       "    </tr>\n",
       "    <tr>\n",
       "      <th>3710</th>\n",
       "      <td>KOLKATA</td>\n",
       "      <td>1.368826</td>\n",
       "    </tr>\n",
       "    <tr>\n",
       "      <th>2618</th>\n",
       "      <td>GURUGRAM</td>\n",
       "      <td>1.192451</td>\n",
       "    </tr>\n",
       "    <tr>\n",
       "      <th>7583</th>\n",
       "      <td>THANE</td>\n",
       "      <td>0.968244</td>\n",
       "    </tr>\n",
       "    <tr>\n",
       "      <th>4395</th>\n",
       "      <td>LUCKNOW</td>\n",
       "      <td>0.895673</td>\n",
       "    </tr>\n",
       "  </tbody>\n",
       "</table>\n",
       "</div>"
      ],
      "text/plain": [
       "      ship-city  Total Sales in Million\n",
       "775   BENGALURU                6.698265\n",
       "2904  HYDERABAD                4.793958\n",
       "4793     MUMBAI                3.585314\n",
       "5391  NEW DELHI                3.490346\n",
       "1464    CHENNAI                2.994311\n",
       "6156       PUNE                2.270924\n",
       "3710    KOLKATA                1.368826\n",
       "2618   GURUGRAM                1.192451\n",
       "7583      THANE                0.968244\n",
       "4395    LUCKNOW                0.895673"
      ]
     },
     "execution_count": 87,
     "metadata": {},
     "output_type": "execute_result"
    }
   ],
   "source": [
    "top_sales_cities"
   ]
  },
  {
   "cell_type": "code",
   "execution_count": 88,
   "id": "d81a32d1",
   "metadata": {},
   "outputs": [
    {
     "data": {
      "text/html": [
       "<div>\n",
       "<style scoped>\n",
       "    .dataframe tbody tr th:only-of-type {\n",
       "        vertical-align: middle;\n",
       "    }\n",
       "\n",
       "    .dataframe tbody tr th {\n",
       "        vertical-align: top;\n",
       "    }\n",
       "\n",
       "    .dataframe thead th {\n",
       "        text-align: right;\n",
       "    }\n",
       "</style>\n",
       "<table border=\"1\" class=\"dataframe\">\n",
       "  <thead>\n",
       "    <tr style=\"text-align: right;\">\n",
       "      <th></th>\n",
       "      <th>ship-city</th>\n",
       "      <th>Total Sales in Million</th>\n",
       "    </tr>\n",
       "  </thead>\n",
       "  <tbody>\n",
       "    <tr>\n",
       "      <th>704</th>\n",
       "      <td>BARNALa</td>\n",
       "      <td>0.0</td>\n",
       "    </tr>\n",
       "    <tr>\n",
       "      <th>4023</th>\n",
       "      <td>Kanti Nagar extension, Krishna Nagar</td>\n",
       "      <td>0.0</td>\n",
       "    </tr>\n",
       "    <tr>\n",
       "      <th>4020</th>\n",
       "      <td>Kanpur dehat</td>\n",
       "      <td>0.0</td>\n",
       "    </tr>\n",
       "    <tr>\n",
       "      <th>4009</th>\n",
       "      <td>Kanjirapally, kottayam</td>\n",
       "      <td>0.0</td>\n",
       "    </tr>\n",
       "    <tr>\n",
       "      <th>3996</th>\n",
       "      <td>Kandivali (W), Mumbai</td>\n",
       "      <td>0.0</td>\n",
       "    </tr>\n",
       "    <tr>\n",
       "      <th>690</th>\n",
       "      <td>BARGHAT</td>\n",
       "      <td>0.0</td>\n",
       "    </tr>\n",
       "    <tr>\n",
       "      <th>3987</th>\n",
       "      <td>Kanchikacharla</td>\n",
       "      <td>0.0</td>\n",
       "    </tr>\n",
       "    <tr>\n",
       "      <th>3962</th>\n",
       "      <td>Kalwa THANE</td>\n",
       "      <td>0.0</td>\n",
       "    </tr>\n",
       "    <tr>\n",
       "      <th>701</th>\n",
       "      <td>BARKI SARAIYA</td>\n",
       "      <td>0.0</td>\n",
       "    </tr>\n",
       "    <tr>\n",
       "      <th>7328</th>\n",
       "      <td>Shalimar bagh</td>\n",
       "      <td>0.0</td>\n",
       "    </tr>\n",
       "  </tbody>\n",
       "</table>\n",
       "</div>"
      ],
      "text/plain": [
       "                                 ship-city  Total Sales in Million\n",
       "704                                BARNALa                     0.0\n",
       "4023  Kanti Nagar extension, Krishna Nagar                     0.0\n",
       "4020                          Kanpur dehat                     0.0\n",
       "4009                Kanjirapally, kottayam                     0.0\n",
       "3996                 Kandivali (W), Mumbai                     0.0\n",
       "690                                BARGHAT                     0.0\n",
       "3987                        Kanchikacharla                     0.0\n",
       "3962                           Kalwa THANE                     0.0\n",
       "701                          BARKI SARAIYA                     0.0\n",
       "7328                         Shalimar bagh                     0.0"
      ]
     },
     "execution_count": 88,
     "metadata": {},
     "output_type": "execute_result"
    }
   ],
   "source": [
    "bottom_sales_cities= df.groupby('ship-city')['Total Sales in Million'].sum().reset_index().sort_values(by='Total Sales in Million').head(10)\n",
    "bottom_sales_cities"
   ]
  },
  {
   "cell_type": "code",
   "execution_count": 89,
   "id": "b49fe38e",
   "metadata": {},
   "outputs": [
    {
     "data": {
      "image/png": "[encoded data removed]",
      "text/plain": [
       "<Figure size 1300x500 with 2 Axes>"
      ]
     },
     "metadata": {},
     "output_type": "display_data"
    }
   ],
   "source": [
    "plt.figure(figsize=(13,5))\n",
    "sns.set(style='white')\n",
    "plt.subplot(1,2,1)\n",
    "sns.barplot(y='ship-city',x='Total Sales in Million',data=top_sales_cities,palette='tab20b')\n",
    "plt.title('Top 10 Cities by Sales',fontsize=15)\n",
    "plt.xlabel('Total Sales in Million',fontsize=12)\n",
    "plt.ylabel('State',fontsize=12)\n",
    "plt.subplot(1,2,2)\n",
    "sns.barplot(y='ship-city',x='Total Sales in Million',data=bottom_sales_cities)\n",
    "plt.title('Bottom 10 Cities by Sales',fontsize=15)\n",
    "plt.xlabel('Total Sales in Million',fontsize=12)\n",
    "plt.ylabel('State',fontsize=12)\n",
    "plt.xticks([0, 1, 2, 3, 4, 5])\n",
    "plt.tight_layout()"
   ]
  },
  {
   "cell_type": "markdown",
   "id": "24056540",
   "metadata": {},
   "source": [
    "### Key Findings:\n",
    "##### Top 10 Cities by Sales:\n",
    "* Bengaluru leads the sales with the highest total sales in millions.\n",
    "* Hyderabad, Mumbai, New Delhi, and Chennai follow, indicating these cities are major hubs for Amazon sales.\n",
    "* Other top cities include Pune, Kolkata, Gurugram, Thane, and Lucknow.\n",
    "##### Bottom 10 Cities by Sales:\n",
    "* Barnala and Kanti Nagar extension, Krishna Nagar have the lowest sales.\n",
    "* Other cities with minimal sales include Kanpur dehat, Kanjirappally (Kottayam), Kandivali (W), Mumbai, Barghat, Kanchikacherla, Kalwa (Thane), Barki Saraiya, and Shalimar Bagh."
   ]
  },
  {
   "cell_type": "markdown",
   "id": "28234ca7",
   "metadata": {},
   "source": [
    "### Insights:\n",
    "* Bengaluru, Hyderabad, Mumbai, New Delhi, and Chennai lead in sales, showing a strong customer base in these metropolitan areas.\n",
    "* Cities with lower sales, especially the bottom 10, have potential for growth. Targeted marketing and better logistics could boost sales here.\n",
    "* The sales gap between top and bottom cities might be due to infrastructure and logistics differences. Improving delivery infrastructure in low-performing cities could enhance sales."
   ]
  },
  {
   "cell_type": "code",
   "execution_count": null,
   "id": "a8d26ac9",
   "metadata": {},
   "outputs": [],
   "source": []
  }
 ],
 "metadata": {
  "kernelspec": {
   "display_name": "Python 3 (ipykernel)",
   "language": "python",
   "name": "python3"
  },
  "language_info": {
   "codemirror_mode": {
    "name": "ipython",
    "version": 3
   },
   "file_extension": ".py",
   "mimetype": "text/x-python",
   "name": "python",
   "nbconvert_exporter": "python",
   "pygments_lexer": "ipython3",
   "version": "3.10.9"
  }
 },
 "nbformat": 4,
 "nbformat_minor": 5
}
